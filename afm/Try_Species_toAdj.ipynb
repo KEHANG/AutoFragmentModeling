{
 "cells": [
  {
   "cell_type": "code",
   "execution_count": 1,
   "metadata": {},
   "outputs": [],
   "source": [
    "import afm.fragment\n",
    "import unittest"
   ]
  },
  {
   "cell_type": "code",
   "execution_count": 2,
   "metadata": {},
   "outputs": [],
   "source": [
    "import os\n",
    "import urllib\n",
    "import itertools\n",
    "\n",
    "from rmgpy.species import Species\n",
    "import rmgpy.molecule.group as gr\n",
    "import rmgpy.molecule.element as elements\n",
    "import rmgpy.molecule.converter as converter\n",
    "import rmgpy.molecule.resonance as resonance\n",
    "from rmgpy.molecule.element import getElement\n",
    "from rmgpy.molecule.graph import Graph, Vertex\n",
    "from rmgpy.molecule.molecule import Atom, Bond, Molecule\n",
    "from rmgpy.molecule.atomtype import getAtomType, AtomTypeError"
   ]
  },
  {
   "cell_type": "code",
   "execution_count": 3,
   "metadata": {},
   "outputs": [],
   "source": [
    "smiles_like = 'RC'\n",
    "fragment = afm.fragment.Fragment().from_SMILES_like_string(smiles_like)\n",
    "\n",
    "fragment.update()\n",
    "adj = fragment.toAdjacencyList()\n"
   ]
  },
  {
   "cell_type": "code",
   "execution_count": 4,
   "metadata": {},
   "outputs": [
    {
     "data": {
      "text/plain": [
       "'1 C u0 p0 c0 {2,S} {3,S} {4,S} {5,S}\\n2 R u0 p0 c0 {1,S}\\n3 H u0 p0 c0 {1,S}\\n4 H u0 p0 c0 {1,S}\\n5 H u0 p0 c0 {1,S}\\n'"
      ]
     },
     "metadata": {},
     "output_type": "display_data"
    }
   ],
   "source": [
    "display(adj)"
   ]
  },
  {
   "cell_type": "code",
   "execution_count": 5,
   "metadata": {},
   "outputs": [
    {
     "name": "stdout",
     "output_type": "stream",
     "text": [
      "1 C u0 p0 c0 {2,S} {3,S} {4,S} {5,S}\n",
      "2 R u0 p0 c0 {1,S}\n",
      "3 H u0 p0 c0 {1,S}\n",
      "4 H u0 p0 c0 {1,S}\n",
      "5 H u0 p0 c0 {1,S}\n",
      "\n"
     ]
    }
   ],
   "source": [
    "print(adj)"
   ]
  },
  {
   "cell_type": "markdown",
   "metadata": {},
   "source": [
    "## Try L label fragment"
   ]
  },
  {
   "cell_type": "code",
   "execution_count": 6,
   "metadata": {},
   "outputs": [],
   "source": [
    "smiles_like = 'LC'\n",
    "fragment = afm.fragment.Fragment().from_SMILES_like_string(smiles_like)\n",
    "\n",
    "fragment.update()\n",
    "adjL = fragment.toAdjacencyList()"
   ]
  },
  {
   "cell_type": "code",
   "execution_count": 7,
   "metadata": {},
   "outputs": [
    {
     "data": {
      "text/plain": [
       "'1 C u0 p0 c0 {2,S} {3,S} {4,S} {5,S}\\n2 L u0 p0 c0 {1,S}\\n3 H u0 p0 c0 {1,S}\\n4 H u0 p0 c0 {1,S}\\n5 H u0 p0 c0 {1,S}\\n'"
      ]
     },
     "metadata": {},
     "output_type": "display_data"
    }
   ],
   "source": [
    "display(adjL)"
   ]
  },
  {
   "cell_type": "code",
   "execution_count": 8,
   "metadata": {},
   "outputs": [
    {
     "name": "stdout",
     "output_type": "stream",
     "text": [
      "1 C u0 p0 c0 {2,S} {3,S} {4,S} {5,S}\n",
      "2 L u0 p0 c0 {1,S}\n",
      "3 H u0 p0 c0 {1,S}\n",
      "4 H u0 p0 c0 {1,S}\n",
      "5 H u0 p0 c0 {1,S}\n",
      "\n"
     ]
    }
   ],
   "source": [
    "print(adjL)"
   ]
  },
  {
   "cell_type": "code",
   "execution_count": null,
   "metadata": {},
   "outputs": [],
   "source": []
  }
 ],
 "metadata": {
  "kernelspec": {
   "display_name": "Python 2",
   "language": "python",
   "name": "python2"
  },
  "language_info": {
   "codemirror_mode": {
    "name": "ipython",
    "version": 2
   },
   "file_extension": ".py",
   "mimetype": "text/x-python",
   "name": "python",
   "nbconvert_exporter": "python",
   "pygments_lexer": "ipython2",
   "version": "2.7.15"
  }
 },
 "nbformat": 4,
 "nbformat_minor": 2
}
