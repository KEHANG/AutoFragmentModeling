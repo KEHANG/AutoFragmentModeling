{
 "cells": [
  {
   "cell_type": "markdown",
   "metadata": {},
   "source": [
    "### Test react"
   ]
  },
  {
   "cell_type": "code",
   "execution_count": 1,
   "metadata": {},
   "outputs": [],
   "source": [
    "import os\n",
    "import unittest\n",
    "\n",
    "from rmgpy import settings\n",
    "from rmgpy.data.rmg import RMGDatabase\n",
    "\n",
    "import afm.react\n",
    "import afm.fragment "
   ]
  },
  {
   "cell_type": "code",
   "execution_count": 2,
   "metadata": {},
   "outputs": [
    {
     "ename": "AttributeError",
     "evalue": "'Fragment' object has no attribute 'getLabeledAtoms'",
     "output_type": "error",
     "traceback": [
      "\u001b[0;31m---------------------------------------------------------------------------\u001b[0m",
      "\u001b[0;31mAttributeError\u001b[0m                            Traceback (most recent call last)",
      "\u001b[0;32m<ipython-input-2-c1242afe3435>\u001b[0m in \u001b[0;36m<module>\u001b[0;34m()\u001b[0m\n\u001b[1;32m     18\u001b[0m                                       \u001b[0mfragment_tuple\u001b[0m\u001b[0;34m,\u001b[0m\u001b[0;34m\u001b[0m\u001b[0m\n\u001b[1;32m     19\u001b[0m                                       \u001b[0monly_families\u001b[0m\u001b[0;34m=\u001b[0m\u001b[0;34m[\u001b[0m\u001b[0;34m'R_Recombination'\u001b[0m\u001b[0;34m]\u001b[0m\u001b[0;34m,\u001b[0m\u001b[0;34m\u001b[0m\u001b[0m\n\u001b[0;32m---> 20\u001b[0;31m                                       prod_resonance=False)\n\u001b[0m",
      "\u001b[0;32m/home/yentingw/AutoFragmentModeling/afm/react.pyc\u001b[0m in \u001b[0;36mreact_fragments\u001b[0;34m(kinetics_db, fragment_tuple, products, only_families, prod_resonance)\u001b[0m\n\u001b[1;32m     17\u001b[0m                                             \u001b[0mproducts\u001b[0m\u001b[0;34m=\u001b[0m\u001b[0mproducts\u001b[0m\u001b[0;34m,\u001b[0m\u001b[0;34m\u001b[0m\u001b[0m\n\u001b[1;32m     18\u001b[0m                                             \u001b[0monly_families\u001b[0m\u001b[0;34m=\u001b[0m\u001b[0monly_families\u001b[0m\u001b[0;34m,\u001b[0m\u001b[0;34m\u001b[0m\u001b[0m\n\u001b[0;32m---> 19\u001b[0;31m                                             prod_resonance=prod_resonance)\n\u001b[0m\u001b[1;32m     20\u001b[0m \u001b[0;34m\u001b[0m\u001b[0m\n\u001b[1;32m     21\u001b[0m     \u001b[0;32mreturn\u001b[0m \u001b[0mreactions\u001b[0m\u001b[0;34m\u001b[0m\u001b[0m\n",
      "\u001b[0;32m/home/yentingw/RMG/RMG-Py/rmgpy/data/kinetics/database.pyc\u001b[0m in \u001b[0;36mreact_molecules\u001b[0;34m(self, molecules, products, only_families, prod_resonance, clear_labels)\u001b[0m\n\u001b[1;32m    479\u001b[0m                 reaction_list.extend(family.generateReactions(molecules, products=products,\n\u001b[1;32m    480\u001b[0m                                                               \u001b[0mprod_resonance\u001b[0m\u001b[0;34m=\u001b[0m\u001b[0mprod_resonance\u001b[0m\u001b[0;34m,\u001b[0m\u001b[0;34m\u001b[0m\u001b[0m\n\u001b[0;32m--> 481\u001b[0;31m                                                               clear_labels=clear_labels))\n\u001b[0m\u001b[1;32m    482\u001b[0m \u001b[0;34m\u001b[0m\u001b[0m\n\u001b[1;32m    483\u001b[0m         \u001b[0;32mreturn\u001b[0m \u001b[0mreaction_list\u001b[0m\u001b[0;34m\u001b[0m\u001b[0m\n",
      "\u001b[0;32m/home/yentingw/RMG/RMG-Py/rmgpy/data/kinetics/family.pyc\u001b[0m in \u001b[0;36mgenerateReactions\u001b[0;34m(self, reactants, products, prod_resonance, clear_labels)\u001b[0m\n\u001b[1;32m   1468\u001b[0m             \u001b[0;31m# Reverse direction (the direction in which kinetics is not defined)\u001b[0m\u001b[0;34m\u001b[0m\u001b[0;34m\u001b[0m\u001b[0m\n\u001b[1;32m   1469\u001b[0m             reactionList.extend(self.__generateReactions(reactants, products=products, forward=False,\n\u001b[0;32m-> 1470\u001b[0;31m                                                          prod_resonance=prod_resonance, clear_labels=clear_labels))\n\u001b[0m\u001b[1;32m   1471\u001b[0m \u001b[0;34m\u001b[0m\u001b[0m\n\u001b[1;32m   1472\u001b[0m         \u001b[0;32mreturn\u001b[0m \u001b[0mreactionList\u001b[0m\u001b[0;34m\u001b[0m\u001b[0m\n",
      "\u001b[0;32m/home/yentingw/RMG/RMG-Py/rmgpy/data/kinetics/family.pyc\u001b[0m in \u001b[0;36m__generateReactions\u001b[0;34m(self, reactants, products, forward, prod_resonance, clear_labels)\u001b[0m\n\u001b[1;32m   1638\u001b[0m                     \u001b[0mreactantStructures\u001b[0m \u001b[0;34m=\u001b[0m \u001b[0;34m[\u001b[0m\u001b[0mmolecule\u001b[0m\u001b[0;34m]\u001b[0m\u001b[0;34m\u001b[0m\u001b[0m\n\u001b[1;32m   1639\u001b[0m                     \u001b[0;32mtry\u001b[0m\u001b[0;34m:\u001b[0m\u001b[0;34m\u001b[0m\u001b[0m\n\u001b[0;32m-> 1640\u001b[0;31m                         \u001b[0mproductStructures\u001b[0m \u001b[0;34m=\u001b[0m \u001b[0mself\u001b[0m\u001b[0;34m.\u001b[0m\u001b[0m__generateProductStructures\u001b[0m\u001b[0;34m(\u001b[0m\u001b[0mreactantStructures\u001b[0m\u001b[0;34m,\u001b[0m \u001b[0;34m[\u001b[0m\u001b[0mmap\u001b[0m\u001b[0;34m]\u001b[0m\u001b[0;34m,\u001b[0m \u001b[0mforward\u001b[0m\u001b[0;34m)\u001b[0m\u001b[0;34m\u001b[0m\u001b[0m\n\u001b[0m\u001b[1;32m   1641\u001b[0m                     \u001b[0;32mexcept\u001b[0m \u001b[0mForbiddenStructureException\u001b[0m\u001b[0;34m:\u001b[0m\u001b[0;34m\u001b[0m\u001b[0m\n\u001b[1;32m   1642\u001b[0m                         \u001b[0;32mpass\u001b[0m\u001b[0;34m\u001b[0m\u001b[0m\n",
      "\u001b[0;32m/home/yentingw/RMG/RMG-Py/rmgpy/data/kinetics/family.pyc\u001b[0m in \u001b[0;36m__generateProductStructures\u001b[0;34m(self, reactantStructures, maps, forward)\u001b[0m\n\u001b[1;32m   1323\u001b[0m         \u001b[0;31m# If not, then stop\u001b[0m\u001b[0;34m\u001b[0m\u001b[0;34m\u001b[0m\u001b[0m\n\u001b[1;32m   1324\u001b[0m         \u001b[0;32mfor\u001b[0m \u001b[0mstruct\u001b[0m \u001b[0;32min\u001b[0m \u001b[0mreactantStructures\u001b[0m\u001b[0;34m:\u001b[0m\u001b[0;34m\u001b[0m\u001b[0m\n\u001b[0;32m-> 1325\u001b[0;31m             \u001b[0;32mif\u001b[0m \u001b[0mself\u001b[0m\u001b[0;34m.\u001b[0m\u001b[0misMoleculeForbidden\u001b[0m\u001b[0;34m(\u001b[0m\u001b[0mstruct\u001b[0m\u001b[0;34m)\u001b[0m\u001b[0;34m:\u001b[0m\u001b[0;34m\u001b[0m\u001b[0m\n\u001b[0m\u001b[1;32m   1326\u001b[0m                 \u001b[0;32mraise\u001b[0m \u001b[0mForbiddenStructureException\u001b[0m\u001b[0;34m(\u001b[0m\u001b[0;34m)\u001b[0m\u001b[0;34m\u001b[0m\u001b[0m\n\u001b[1;32m   1327\u001b[0m \u001b[0;34m\u001b[0m\u001b[0m\n",
      "\u001b[0;32m/home/yentingw/RMG/RMG-Py/rmgpy/data/kinetics/family.pyc\u001b[0m in \u001b[0;36misMoleculeForbidden\u001b[0;34m(self, molecule)\u001b[0m\n\u001b[1;32m   1372\u001b[0m \u001b[0;34m\u001b[0m\u001b[0m\n\u001b[1;32m   1373\u001b[0m         \u001b[0;31m# check family-specific forbidden structures\u001b[0m\u001b[0;34m\u001b[0m\u001b[0;34m\u001b[0m\u001b[0m\n\u001b[0;32m-> 1374\u001b[0;31m         \u001b[0;32mif\u001b[0m \u001b[0mself\u001b[0m\u001b[0;34m.\u001b[0m\u001b[0mforbidden\u001b[0m \u001b[0;32mis\u001b[0m \u001b[0;32mnot\u001b[0m \u001b[0mNone\u001b[0m \u001b[0;32mand\u001b[0m \u001b[0mself\u001b[0m\u001b[0;34m.\u001b[0m\u001b[0mforbidden\u001b[0m\u001b[0;34m.\u001b[0m\u001b[0misMoleculeForbidden\u001b[0m\u001b[0;34m(\u001b[0m\u001b[0mmolecule\u001b[0m\u001b[0;34m)\u001b[0m\u001b[0;34m:\u001b[0m\u001b[0;34m\u001b[0m\u001b[0m\n\u001b[0m\u001b[1;32m   1375\u001b[0m             \u001b[0;32mreturn\u001b[0m \u001b[0mTrue\u001b[0m\u001b[0;34m\u001b[0m\u001b[0m\n\u001b[1;32m   1376\u001b[0m \u001b[0;34m\u001b[0m\u001b[0m\n",
      "\u001b[0;32m/home/yentingw/RMG/RMG-Py/rmgpy/data/base.pyc\u001b[0m in \u001b[0;36misMoleculeForbidden\u001b[0;34m(self, molecule)\u001b[0m\n\u001b[1;32m   1270\u001b[0m         \u001b[0;32mfor\u001b[0m \u001b[0mentry\u001b[0m \u001b[0;32min\u001b[0m \u001b[0mself\u001b[0m\u001b[0;34m.\u001b[0m\u001b[0mentries\u001b[0m\u001b[0;34m.\u001b[0m\u001b[0mvalues\u001b[0m\u001b[0;34m(\u001b[0m\u001b[0;34m)\u001b[0m\u001b[0;34m:\u001b[0m\u001b[0;34m\u001b[0m\u001b[0m\n\u001b[1;32m   1271\u001b[0m             \u001b[0mentryLabeledAtoms\u001b[0m \u001b[0;34m=\u001b[0m \u001b[0mentry\u001b[0m\u001b[0;34m.\u001b[0m\u001b[0mitem\u001b[0m\u001b[0;34m.\u001b[0m\u001b[0mgetLabeledAtoms\u001b[0m\u001b[0;34m(\u001b[0m\u001b[0;34m)\u001b[0m\u001b[0;34m\u001b[0m\u001b[0m\n\u001b[0;32m-> 1272\u001b[0;31m             \u001b[0mmoleculeLabeledAtoms\u001b[0m \u001b[0;34m=\u001b[0m \u001b[0mmolecule\u001b[0m\u001b[0;34m.\u001b[0m\u001b[0mgetLabeledAtoms\u001b[0m\u001b[0;34m(\u001b[0m\u001b[0;34m)\u001b[0m\u001b[0;34m\u001b[0m\u001b[0m\n\u001b[0m\u001b[1;32m   1273\u001b[0m             \u001b[0minitialMap\u001b[0m \u001b[0;34m=\u001b[0m \u001b[0;34m{\u001b[0m\u001b[0;34m}\u001b[0m\u001b[0;34m\u001b[0m\u001b[0m\n\u001b[1;32m   1274\u001b[0m             \u001b[0;32mfor\u001b[0m \u001b[0mlabel\u001b[0m \u001b[0;32min\u001b[0m \u001b[0mentryLabeledAtoms\u001b[0m\u001b[0;34m:\u001b[0m\u001b[0;34m\u001b[0m\u001b[0m\n",
      "\u001b[0;31mAttributeError\u001b[0m: 'Fragment' object has no attribute 'getLabeledAtoms'"
     ]
    }
   ],
   "source": [
    "        # load kinetics database\n",
    "        db_path = settings['database.directory']\n",
    "        database = RMGDatabase()\n",
    "\n",
    "        # forbidden structure loading\n",
    "        database.loadForbiddenStructures(os.path.join(db_path, 'forbiddenStructures.py'))\n",
    "        # kinetics family loading\n",
    "        database.loadKinetics(os.path.join(db_path, 'kinetics'),\n",
    "                                   kineticsFamilies='default',\n",
    "                                   reactionLibraries=[]\n",
    "                                   )\n",
    "\n",
    "#    def test_react_fragments1(self):\n",
    "        \n",
    "        frag1 = afm.fragment.Fragment(label='frag1').from_SMILES_like_string('c1ccccc1CCCR')\n",
    "        fragment_tuple = (frag1, )\n",
    "        reactions = afm.react.react_fragments(database.kinetics, \n",
    "                                              fragment_tuple,\n",
    "                                              only_families=['R_Recombination'],\n",
    "                                              prod_resonance=False)"
   ]
  },
  {
   "cell_type": "code",
   "execution_count": null,
   "metadata": {},
   "outputs": [],
   "source": [
    "        self.assertTrue(len(reactions)==28) "
   ]
  },
  {
   "cell_type": "code",
   "execution_count": null,
   "metadata": {},
   "outputs": [],
   "source": [
    "    def test_react_fragments2(self):\n",
    "        \n",
    "        frag1 = afm.fragment.Fragment(label='frag1').from_SMILES_like_string('c1ccccc1CCCR')\n",
    "        frag2 = afm.fragment.Fragment(label='frag2').from_SMILES_like_string('[CH2]CR')\n",
    "        fragment_tuple = (frag1, frag2)\n",
    "        reactions = afm.react.react_fragments(self.database.kinetics, \n",
    "                                              fragment_tuple,\n",
    "                                              only_families=['H_Abstraction'],\n",
    "                                              prod_resonance=False)"
   ]
  },
  {
   "cell_type": "code",
   "execution_count": null,
   "metadata": {},
   "outputs": [],
   "source": [
    "        self.assertTrue(len(reactions)==11)"
   ]
  }
 ],
 "metadata": {
  "kernelspec": {
   "display_name": "Python 2",
   "language": "python",
   "name": "python2"
  },
  "language_info": {
   "codemirror_mode": {
    "name": "ipython",
    "version": 2
   },
   "file_extension": ".py",
   "mimetype": "text/x-python",
   "name": "python",
   "nbconvert_exporter": "python",
   "pygments_lexer": "ipython2",
   "version": "2.7.14"
  }
 },
 "nbformat": 4,
 "nbformat_minor": 2
}
