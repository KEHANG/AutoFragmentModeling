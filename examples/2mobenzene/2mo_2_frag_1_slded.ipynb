{
 "cells": [
  {
   "cell_type": "markdown",
   "metadata": {},
   "source": [
    "# 2mo_benzene example with new cutting strategy (2 fragments) R label only"
   ]
  },
  {
   "cell_type": "code",
   "execution_count": 1,
   "metadata": {},
   "outputs": [],
   "source": [
    "import os\n",
    "\n",
    "from rmgpy import settings\n",
    "from rmgpy.species import Species\n",
    "from rmgpy.data.rmg import RMGDatabase\n",
    "\n",
    "import afm.react\n",
    "import afm.fragment "
   ]
  },
  {
   "cell_type": "code",
   "execution_count": 9,
   "metadata": {},
   "outputs": [
    {
     "name": "stderr",
     "output_type": "stream",
     "text": [
      "WARNING:root:Should only make one instance of RMGDatabase because it's stored as a module-level variable!\n",
      "WARNING:root:Unexpected behaviour may result!\n"
     ]
    }
   ],
   "source": [
    "# load kinetics database\n",
    "db_path = settings['database.directory']\n",
    "database = RMGDatabase()\n",
    "\n",
    "# forbidden structure loading\n",
    "database.loadForbiddenStructures(os.path.join(db_path, 'forbiddenStructures.py'))\n",
    "# kinetics family loading\n",
    "database.loadKinetics(os.path.join(db_path, 'kinetics'),\n",
    "                      kineticsFamilies='default',\n",
    "                      reactionLibraries=[]\n",
    "                      )\n",
    "\n",
    "#def test_react_fragments1(self):\n",
    "frag1 = afm.fragment.Fragment(label='frag1').from_SMILES_like_string('c1ccccc1CC(C)CR')\n",
    "## 2 fragments reactions\n",
    "frag2 = afm.fragment.Fragment(label='frag2').from_SMILES_like_string('CCCCCR')"
   ]
  },
  {
   "cell_type": "code",
   "execution_count": 10,
   "metadata": {},
   "outputs": [],
   "source": [
    "fragment_tuple = (frag1, frag2)\n",
    "reactions = afm.react.react_fragments(database.kinetics, \n",
    "                                      fragment_tuple,\n",
    "                                      only_families=[],\n",
    "                                      prod_resonance=False)"
   ]
  },
  {
   "cell_type": "code",
   "execution_count": 11,
   "metadata": {},
   "outputs": [
    {
     "data": {
      "text/plain": [
       "32768"
      ]
     },
     "execution_count": 11,
     "metadata": {},
     "output_type": "execute_result"
    }
   ],
   "source": [
    "2**15 \n",
    "# means 2^15 = 32768"
   ]
  },
  {
   "cell_type": "code",
   "execution_count": 12,
   "metadata": {},
   "outputs": [],
   "source": [
    "rxn_index = range(0,len(reactions))\n",
    "for index in rxn_index:\n",
    "    display(reactions[index])"
   ]
  },
  {
   "cell_type": "code",
   "execution_count": 13,
   "metadata": {},
   "outputs": [
    {
     "data": {
      "text/plain": [
       "0"
      ]
     },
     "execution_count": 13,
     "metadata": {},
     "output_type": "execute_result"
    }
   ],
   "source": [
    "len(reactions)"
   ]
  },
  {
   "cell_type": "code",
   "execution_count": 14,
   "metadata": {},
   "outputs": [],
   "source": [
    "frag1 = afm.fragment.Fragment(label='frag1').from_SMILES_like_string('CCCCCR')\n",
    "spec1 = Species(molecule=[frag1])\n",
    "spec_tuple = (spec1,)\n",
    "\n",
    "reactions = database.kinetics.generate_reactions_from_families(spec_tuple)"
   ]
  },
  {
   "cell_type": "code",
   "execution_count": 15,
   "metadata": {},
   "outputs": [
    {
     "data": {
      "text/plain": [
       "11"
      ]
     },
     "execution_count": 15,
     "metadata": {},
     "output_type": "execute_result"
    }
   ],
   "source": [
    "len(reactions)"
   ]
  },
  {
   "cell_type": "code",
   "execution_count": null,
   "metadata": {},
   "outputs": [],
   "source": [
    "rxn_index = range(0,len(reactions))\n",
    "for index in rxn_index:\n",
    "    display(reactions[index])"
   ]
  },
  {
   "cell_type": "code",
   "execution_count": null,
   "metadata": {},
   "outputs": [],
   "source": [
    "reactions[0]"
   ]
  },
  {
   "cell_type": "code",
   "execution_count": null,
   "metadata": {},
   "outputs": [],
   "source": []
  }
 ],
 "metadata": {
  "kernelspec": {
   "display_name": "Python 2",
   "language": "python",
   "name": "python2"
  },
  "language_info": {
   "codemirror_mode": {
    "name": "ipython",
    "version": 2
   },
   "file_extension": ".py",
   "mimetype": "text/x-python",
   "name": "python",
   "nbconvert_exporter": "python",
   "pygments_lexer": "ipython2",
   "version": "2.7.15"
  }
 },
 "nbformat": 4,
 "nbformat_minor": 2
}
