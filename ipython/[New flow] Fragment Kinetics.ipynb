{
 "cells": [
  {
   "cell_type": "markdown",
   "metadata": {},
   "source": [
    "# New Generation Flow of Two-sided Fragment Mechanism"
   ]
  },
  {
   "cell_type": "markdown",
   "metadata": {},
   "source": [
    "Steps:\n",
    "\n",
    "- load two-sided text fragment mechanism (text based: mech and smiles)\n",
    "\n",
    "- create fragments and fragment reactions (from smiles, check isomorphic duplicate, add reaction_repr for fragment reaction)\n",
    "\n",
    "- get thermo and kinetics\n",
    "\n",
    "Input:\n",
    "\n",
    "- text fragment mechanism and smiles dict\n",
    "\n",
    "Output:\n",
    "\n",
    "- chemkin file for two-sided fragment mechanism"
   ]
  },
  {
   "cell_type": "code",
   "execution_count": null,
   "metadata": {
    "collapsed": true
   },
   "outputs": [],
   "source": [
    "import os"
   ]
  },
  {
   "cell_type": "code",
   "execution_count": null,
   "metadata": {
    "collapsed": true
   },
   "outputs": [],
   "source": [
    "import afm.fragment"
   ]
  },
  {
   "cell_type": "markdown",
   "metadata": {},
   "source": [
    "## load two-sided fragment mech in text"
   ]
  },
  {
   "cell_type": "code",
   "execution_count": null,
   "metadata": {
    "collapsed": true
   },
   "outputs": [],
   "source": [
    "# load fragment from smiles-like string\n",
    "fragment_smiles_filepath = '../examples/pdd_chemistry/fragment_smiles.txt'\n",
    "\n",
    "fragments = []\n",
    "with open(fragment_smiles_filepath) as f_in:\n",
    "    for line in f_in:\n",
    "        if line.strip() and not line.startswith('#') and ':' in line:\n",
    "            label, smiles = [token.strip() for token in line.split(\":\")]\n",
    "            frag = afm.fragment.Fragment(label=label).from_SMILES_like_string(smiles)\n",
    "            for prev_frag in fragments:\n",
    "                if frag.isIsomorphic(prev_frag):\n",
    "                    raise Exception('Isomorphic duplicate found: {0} and {1}'.format(label, prev_frag.label))\n",
    "            fragments.append(frag)\n",
    "\n",
    "# construct label-key fragment dictionary\n",
    "fragment_dict = {}\n",
    "for frag0 in fragments:\n",
    "    if frag0.label not in fragment_dict:\n",
    "        fragment_dict[frag0.label] = frag0\n",
    "    else:\n",
    "        raise Exception('Fragment with duplicated labels found: {0}'.format(frag0.label))"
   ]
  },
  {
   "cell_type": "code",
   "execution_count": null,
   "metadata": {},
   "outputs": [],
   "source": [
    "# load fragment mech in text\n",
    "fragment_mech_filepath = '../examples/pdd_chemistry/rules/frag_mech_test.txt'\n",
    "\n"
   ]
  },
  {
   "cell_type": "markdown",
   "metadata": {},
   "source": [
    "## create fragments and fragment reactions"
   ]
  },
  {
   "cell_type": "markdown",
   "metadata": {},
   "source": [
    "## get thermo and kinetics"
   ]
  },
  {
   "cell_type": "markdown",
   "metadata": {},
   "source": [
    "## create species list and reaction list for chemkin"
   ]
  },
  {
   "cell_type": "code",
   "execution_count": null,
   "metadata": {
    "collapsed": true
   },
   "outputs": [],
   "source": []
  }
 ],
 "metadata": {
  "kernelspec": {
   "display_name": "Python 2",
   "language": "python",
   "name": "python2"
  },
  "language_info": {
   "codemirror_mode": {
    "name": "ipython",
    "version": 2
   },
   "file_extension": ".py",
   "mimetype": "text/x-python",
   "name": "python",
   "nbconvert_exporter": "python",
   "pygments_lexer": "ipython2",
   "version": "2.7.13"
  }
 },
 "nbformat": 4,
 "nbformat_minor": 2
}
