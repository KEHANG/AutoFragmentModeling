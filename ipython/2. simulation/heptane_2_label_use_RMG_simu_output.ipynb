{
 "cells": [
  {
   "cell_type": "code",
   "execution_count": 1,
   "metadata": {},
   "outputs": [],
   "source": [
    "import pandas as pd"
   ]
  },
  {
   "cell_type": "code",
   "execution_count": 2,
   "metadata": {},
   "outputs": [],
   "source": [
    "data = pd.read_csv('/home/yentingw/AutoFragmentModeling/examples/heptane/results/simulation_1_155.csv')"
   ]
  },
  {
   "cell_type": "code",
   "execution_count": 3,
   "metadata": {},
   "outputs": [],
   "source": [
    "data_1 = list(data.head(0))"
   ]
  },
  {
   "cell_type": "code",
   "execution_count": 4,
   "metadata": {},
   "outputs": [],
   "source": [
    "index = data.__len__()\n",
    "value = data.loc[index-1]\n",
    "data_2 = value.tolist()"
   ]
  },
  {
   "cell_type": "code",
   "execution_count": 5,
   "metadata": {},
   "outputs": [],
   "source": [
    "VData = data.iloc[:,1]\n",
    "P = 20 # bar\n",
    "T = 1600 # K"
   ]
  },
  {
   "cell_type": "code",
   "execution_count": 6,
   "metadata": {},
   "outputs": [],
   "source": [
    "total_moles = P*100000*VData/8.314/T # mol"
   ]
  },
  {
   "cell_type": "code",
   "execution_count": 7,
   "metadata": {},
   "outputs": [],
   "source": [
    "moles_dict ={}\n",
    "for key, val in zip(data_1[6:-1], data_2[6:-1]):\n",
    "    moles_dict[key] = val"
   ]
  },
  {
   "cell_type": "code",
   "execution_count": 8,
   "metadata": {},
   "outputs": [
    {
     "data": {
      "text/plain": [
       "0.0024168312449615427"
      ]
     },
     "execution_count": 8,
     "metadata": {},
     "output_type": "execute_result"
    }
   ],
   "source": [
    "moles_dict['C7H16(1)']"
   ]
  },
  {
   "cell_type": "code",
   "execution_count": 9,
   "metadata": {},
   "outputs": [],
   "source": [
    "for key in moles_dict:\n",
    "    moles_dict[key] = moles_dict[key] * total_moles[index-1] # value in unit of mol"
   ]
  },
  {
   "cell_type": "code",
   "execution_count": 9,
   "metadata": {},
   "outputs": [
    {
     "data": {
      "text/plain": [
       "{'C2H2(244)': 0.04990157910840322,\n",
       " 'C2H3(29)': 3.366133582428619e-05,\n",
       " 'C2H4(14)': 0.3758489624612905,\n",
       " 'C2H5(5)': 0.00016133679271812366,\n",
       " 'C3H3(258)': 0.0012666624883336682,\n",
       " 'C3H4(128)': 0.019112156204465446,\n",
       " 'C3H4(290)': 0.012863120202202658,\n",
       " 'C3H5(84)': 5.0172997145681675e-06,\n",
       " 'C3H5(85)': 4.874620476896722e-07,\n",
       " 'C3H6(27)': 0.08846402685108595,\n",
       " 'C3H7(86)': 1.0969230081964568e-05,\n",
       " 'C3H8(21)': 0.006523190171263301,\n",
       " 'C4H2(1254)': 0.0006736926077116732,\n",
       " 'C4H3(832)': 2.7313601461559835e-05,\n",
       " 'C4H4(767)': 0.00036593658011185366,\n",
       " 'C4H4(768)': 0.006713955313779045,\n",
       " 'C4H5(201)': 1.5130765222482113e-05,\n",
       " 'C4H5(202)': 3.542570017435997e-07,\n",
       " 'C4H5(383)': 6.305174626659815e-07,\n",
       " 'C4H5(660)': 3.1600150909008755e-05,\n",
       " 'C4H6(158)': 0.021557829254708245,\n",
       " 'C4H6(209)': 0.0012345395043706878,\n",
       " 'C4H6(316)': 0.0017642102906229504,\n",
       " 'C4H7(260)': 7.511282487567487e-06,\n",
       " 'C4H7(302)': 2.0183485094930157e-08,\n",
       " 'C4H7(303)': 4.934007678405643e-08,\n",
       " 'C4H7(32)': 1.9577202795583005e-06,\n",
       " 'C4H7(59)': 8.479047442682654e-05,\n",
       " 'C4H7(60)': 8.438708768665188e-08,\n",
       " 'C4H7(61)': 1.1914671249590533e-07,\n",
       " 'C4H8(210)': 0.0012105332816366929,\n",
       " 'C4H8(26)': 0.012434085474542856,\n",
       " 'C4H9(62)': 3.6287025333427296e-07,\n",
       " 'C5H10(19)': 0.0009245721675853916,\n",
       " 'C5H10(259)': 7.467593185944742e-05,\n",
       " 'C5H11(4)': 1.662125280416981e-07,\n",
       " 'C5H11(53)': 5.065482325507751e-08,\n",
       " 'C5H11(64)': 2.2234696277077817e-08,\n",
       " 'C5H4(1320)': 0.00026502902588523684,\n",
       " 'C5H4(1393)': 0.00030614522322156056,\n",
       " 'C5H5(1307)': 1.614137383812304e-07,\n",
       " 'C5H5(363)': 9.90080625166558e-09,\n",
       " 'C5H5(931)': 0.00013744148145921378,\n",
       " 'C5H6(414)': 0.0011593556517782804,\n",
       " 'C5H7(252)': 7.027446521616563e-08,\n",
       " 'C5H7(280)': 0.0005854610984392537,\n",
       " 'C5H7(319)': 1.6334096133961876e-07,\n",
       " 'C5H7(836)': 1.6759341353755985e-07,\n",
       " 'C5H8(156)': 0.00027987665270078185,\n",
       " 'C5H8(157)': 0.003450091743673693,\n",
       " 'C5H8(247)': 0.0021101557694667467,\n",
       " 'C5H8(317)': 0.00030256915331343257,\n",
       " 'C5H9(203)': 1.0291869058777113e-07,\n",
       " 'C5H9(35)': 3.859833507413529e-07,\n",
       " 'C5H9(49)': 8.392779101187539e-07,\n",
       " 'C5H9(50)': 1.7083697733606511e-06,\n",
       " 'C6H10(141)': 0.0005878533949365128,\n",
       " 'C6H10(278)': 0.00015786128462117035,\n",
       " 'C6H10(415)': 2.5445097162461604e-05,\n",
       " 'C6H11(119)': 8.320823142965525e-09,\n",
       " 'C6H11(34)': 1.714071021568413e-08,\n",
       " 'C6H11(36)': 8.28095826173703e-08,\n",
       " 'C6H11(37)': 1.4323627953846155e-07,\n",
       " 'C6H12(13)': 0.0001525107655830342,\n",
       " 'C6H13(41)': 3.779784640956907e-09,\n",
       " 'C6H13(9)': 1.2936964878755667e-07,\n",
       " 'C6H6(380)': 0.00014479083170340032,\n",
       " 'C6H6(381)': 0.00010433766595878985,\n",
       " 'C6H6(382)': 0.00010372028544341182,\n",
       " 'C6H6(965)': 0.0014171038311855404,\n",
       " 'C6H7(1255)': 2.6076081887761445e-08,\n",
       " 'C6H7(364)': 4.6195482683502335e-09,\n",
       " 'C6H7(379)': 9.188631287778981e-10,\n",
       " 'C6H7(589)': 3.6194078498629796e-05,\n",
       " 'C6H8(348)': 0.000657217424839639,\n",
       " 'C6H8(349)': 0.0004961042326826061,\n",
       " 'C6H9(147)': 4.0231976090932405e-06,\n",
       " 'C6H9(306)': 2.795097044839624e-09,\n",
       " 'C6H9(332)': 1.1219603610541924e-08,\n",
       " 'C6H9(333)': 3.317495978248117e-08,\n",
       " 'C6H9(335)': 2.330506848649466e-08,\n",
       " 'C6H9(769)': 5.518514915360142e-08,\n",
       " 'C7H10(358)': 5.236218154251251e-06,\n",
       " 'C7H10(361)': 1.0699178352576576e-05,\n",
       " 'C7H11(205)': 1.2133322821662665e-08,\n",
       " 'C7H11(206)': 1.8796460271224527e-07,\n",
       " 'C7H11(418)': 6.289318997539874e-09,\n",
       " 'C7H11(419)': 1.0719533872488693e-09,\n",
       " 'C7H12(228)': 1.564424165877442e-05,\n",
       " 'C7H12(229)': 2.569016187984425e-05,\n",
       " 'C7H12(416)': 1.107608389007014e-05,\n",
       " 'C7H14(69)': 2.100391837226609e-05,\n",
       " 'C7H14(70)': 3.301027488526296e-05,\n",
       " 'C7H14(90)': 1.865018264175197e-05,\n",
       " 'C7H15(11)': 1.0774201431940482e-07,\n",
       " 'C7H15(12)': 3.440139120218248e-08,\n",
       " 'C7H15(6)': 4.363314475909324e-08,\n",
       " 'C7H15(8)': 3.224468813108985e-08,\n",
       " 'C7H16(1)': 0.0024168312449615427,\n",
       " 'C7H5(1311)': 1.7063785377021807e-08,\n",
       " 'C7H7(1309)': 2.7424304659164936e-08,\n",
       " 'C7H7(857)': 1.206549820693042e-08,\n",
       " 'C7H8(1265)': 7.504844179624896e-05,\n",
       " 'C7H9(1394)': 3.0409421323398175e-09,\n",
       " 'C7H9(1396)': 7.559155544277646e-09,\n",
       " 'C7H9(354)': 3.750580814561214e-09,\n",
       " 'C7H9(355)': 1.1105125431847217e-07,\n",
       " 'C7H9(357)': 7.995317095610027e-08,\n",
       " 'C7H9(462)': 1.0262463033457718e-09,\n",
       " 'C7H9(842)': 1.8650568228881816e-08,\n",
       " 'C8H10(480)': 1.1170621043109137e-05,\n",
       " 'C8H10(481)': 1.6721253810377896e-06,\n",
       " 'C8H10(482)': 8.047015613794345e-06,\n",
       " 'C8H10(483)': 1.3714527252204577e-06,\n",
       " 'C8H11(749)': 1.3347764467940286e-10,\n",
       " 'C8H11(890)': 1.1408005361812042e-09,\n",
       " 'C8H11(967)': 1.1809901577426428e-08,\n",
       " 'C8H12(448)': 1.8930405242536908e-05,\n",
       " 'C8H12(449)': 3.2079090822662664e-06,\n",
       " 'C8H7(1334)': 1.3639884595818174e-10,\n",
       " 'C8H7(1337)': 1.81667469290474e-11,\n",
       " 'C8H8(1366)': 5.374604434841495e-06,\n",
       " 'C8H8(1446)': 8.084397777615494e-07,\n",
       " 'C8H8(1447)': 3.885152924394718e-06,\n",
       " 'C8H8(1449)': 9.608312375448752e-06,\n",
       " 'C8H9(905)': 1.0460887992114784e-09,\n",
       " 'C9H12(986)': 1.1714706619746962e-06,\n",
       " 'C9H12(987)': 3.2297162876218467e-07,\n",
       " 'C9H12(988)': 3.3884745367550656e-05,\n",
       " 'C9H13(455)': 3.082871290899818e-09,\n",
       " 'C9H14(459)': 5.010230786664657e-08,\n",
       " 'C9H9(1141)': 4.680920289309568e-10,\n",
       " 'CC(17)': 0.02525688097593229,\n",
       " 'CH3(10)': 0.0005935462047518144,\n",
       " 'CH4(15)': 0.13909101160049606,\n",
       " 'H(7)': 2.3716728522601167e-05,\n",
       " 'H2(31)': 0.21658698185703487,\n",
       " 'S(1177)': 1.1829640884892622e-09,\n",
       " 'S(1412)': 7.979066830932217e-10,\n",
       " 'S(1415)': 9.165807855953668e-06,\n",
       " 'S(1416)': 1.6609928671348758e-05,\n",
       " 'S(1417)': 2.2781931007075267e-05,\n",
       " 'S(1421)': 2.701199197558853e-09,\n",
       " 'S(492)': 1.5507707810758716e-07,\n",
       " 'S(493)': 5.263990817747734e-08,\n",
       " 'S(494)': 4.530474803805091e-09,\n",
       " 'allyl(33)': 0.0018589805239084694,\n",
       " 'butyl_1(2)': 7.379928433104392e-07,\n",
       " 'ibutyl(87)': 6.225033524909286e-08,\n",
       " 'npropyl(3)': 3.3838756554182875e-06}"
      ]
     },
     "execution_count": 9,
     "metadata": {},
     "output_type": "execute_result"
    }
   ],
   "source": [
    "moles_dict"
   ]
  },
  {
   "cell_type": "code",
   "execution_count": 10,
   "metadata": {},
   "outputs": [],
   "source": [
    "import os\n",
    "import matplotlib\n",
    "import matplotlib.pyplot as plt\n",
    "from IPython.display import display, Image\n",
    "%matplotlib inline"
   ]
  },
  {
   "cell_type": "code",
   "execution_count": 11,
   "metadata": {},
   "outputs": [],
   "source": [
    "from rmgpy.chemkin import *\n",
    "from rmgpy.species import Species"
   ]
  },
  {
   "cell_type": "code",
   "execution_count": 12,
   "metadata": {},
   "outputs": [
    {
     "name": "stderr",
     "output_type": "stream",
     "text": [
      "/home/yentingw/RMG/RMG-Py/rmgpy/tools/plot.py:34: UserWarning: \n",
      "This call to matplotlib.use() has no effect because the backend has already\n",
      "been chosen; matplotlib.use() must be called *before* pylab, matplotlib.pyplot,\n",
      "or matplotlib.backends is imported for the first time.\n",
      "\n",
      "The backend was *originally* set to 'module://ipykernel.pylab.backend_inline' by the following code:\n",
      "  File \"/home/yentingw/anaconda2/envs/afm_env/lib/python2.7/runpy.py\", line 174, in _run_module_as_main\n",
      "    \"__main__\", fname, loader, pkg_name)\n",
      "  File \"/home/yentingw/anaconda2/envs/afm_env/lib/python2.7/runpy.py\", line 72, in _run_code\n",
      "    exec code in run_globals\n",
      "  File \"/home/yentingw/anaconda2/envs/afm_env/lib/python2.7/site-packages/ipykernel_launcher.py\", line 16, in <module>\n",
      "    app.launch_new_instance()\n",
      "  File \"/home/yentingw/anaconda2/envs/afm_env/lib/python2.7/site-packages/traitlets/config/application.py\", line 658, in launch_instance\n",
      "    app.start()\n",
      "  File \"/home/yentingw/anaconda2/envs/afm_env/lib/python2.7/site-packages/ipykernel/kernelapp.py\", line 486, in start\n",
      "    self.io_loop.start()\n",
      "  File \"/home/yentingw/anaconda2/envs/afm_env/lib/python2.7/site-packages/tornado/ioloop.py\", line 1064, in start\n",
      "    handler_func(fd_obj, events)\n",
      "  File \"/home/yentingw/anaconda2/envs/afm_env/lib/python2.7/site-packages/tornado/stack_context.py\", line 276, in null_wrapper\n",
      "    return fn(*args, **kwargs)\n",
      "  File \"/home/yentingw/anaconda2/envs/afm_env/lib/python2.7/site-packages/zmq/eventloop/zmqstream.py\", line 450, in _handle_events\n",
      "    self._handle_recv()\n",
      "  File \"/home/yentingw/anaconda2/envs/afm_env/lib/python2.7/site-packages/zmq/eventloop/zmqstream.py\", line 480, in _handle_recv\n",
      "    self._run_callback(callback, msg)\n",
      "  File \"/home/yentingw/anaconda2/envs/afm_env/lib/python2.7/site-packages/zmq/eventloop/zmqstream.py\", line 432, in _run_callback\n",
      "    callback(*args, **kwargs)\n",
      "  File \"/home/yentingw/anaconda2/envs/afm_env/lib/python2.7/site-packages/tornado/stack_context.py\", line 276, in null_wrapper\n",
      "    return fn(*args, **kwargs)\n",
      "  File \"/home/yentingw/anaconda2/envs/afm_env/lib/python2.7/site-packages/ipykernel/kernelbase.py\", line 283, in dispatcher\n",
      "    return self.dispatch_shell(stream, msg)\n",
      "  File \"/home/yentingw/anaconda2/envs/afm_env/lib/python2.7/site-packages/ipykernel/kernelbase.py\", line 233, in dispatch_shell\n",
      "    handler(stream, idents, msg)\n",
      "  File \"/home/yentingw/anaconda2/envs/afm_env/lib/python2.7/site-packages/ipykernel/kernelbase.py\", line 399, in execute_request\n",
      "    user_expressions, allow_stdin)\n",
      "  File \"/home/yentingw/anaconda2/envs/afm_env/lib/python2.7/site-packages/ipykernel/ipkernel.py\", line 208, in do_execute\n",
      "    res = shell.run_cell(code, store_history=store_history, silent=silent)\n",
      "  File \"/home/yentingw/anaconda2/envs/afm_env/lib/python2.7/site-packages/ipykernel/zmqshell.py\", line 537, in run_cell\n",
      "    return super(ZMQInteractiveShell, self).run_cell(*args, **kwargs)\n",
      "  File \"/home/yentingw/anaconda2/envs/afm_env/lib/python2.7/site-packages/IPython/core/interactiveshell.py\", line 2724, in run_cell\n",
      "    self.events.trigger('post_run_cell')\n",
      "  File \"/home/yentingw/anaconda2/envs/afm_env/lib/python2.7/site-packages/IPython/core/events.py\", line 74, in trigger\n",
      "    func(*args, **kwargs)\n",
      "  File \"/home/yentingw/anaconda2/envs/afm_env/lib/python2.7/site-packages/ipykernel/pylab/backend_inline.py\", line 160, in configure_once\n",
      "    activate_matplotlib(backend)\n",
      "  File \"/home/yentingw/anaconda2/envs/afm_env/lib/python2.7/site-packages/IPython/core/pylabtools.py\", line 315, in activate_matplotlib\n",
      "    matplotlib.pyplot.switch_backend(backend)\n",
      "  File \"/home/yentingw/anaconda2/envs/afm_env/lib/python2.7/site-packages/matplotlib/pyplot.py\", line 231, in switch_backend\n",
      "    matplotlib.use(newbackend, warn=False, force=True)\n",
      "  File \"/home/yentingw/anaconda2/envs/afm_env/lib/python2.7/site-packages/matplotlib/__init__.py\", line 1410, in use\n",
      "    reload(sys.modules['matplotlib.backends'])\n",
      "  File \"/home/yentingw/anaconda2/envs/afm_env/lib/python2.7/site-packages/matplotlib/backends/__init__.py\", line 16, in <module>\n",
      "    line for line in traceback.format_stack()\n",
      "\n",
      "\n",
      "  mpl.use('Agg')\n"
     ]
    }
   ],
   "source": [
    "from afm.canteraModel import Cantera"
   ]
  },
  {
   "cell_type": "code",
   "execution_count": 13,
   "metadata": {},
   "outputs": [],
   "source": [
    "model = 'heptane'\n",
    "\n",
    "working_dir = os.path.join('/home/yentingw/AutoFragmentModeling', 'examples', model, 'results', 'detailed')\n",
    "chemkin_path = os.path.join(working_dir, 'chem_annotated.inp')\n",
    "species_dict_path = os.path.join(working_dir, 'species_dictionary.txt')"
   ]
  },
  {
   "cell_type": "code",
   "execution_count": 14,
   "metadata": {},
   "outputs": [],
   "source": [
    "results_path = os.path.join(working_dir, 'results_rmg_outcome')\n",
    "if not os.path.exists(results_path):\n",
    "    os.mkdir(results_path)"
   ]
  },
  {
   "cell_type": "code",
   "execution_count": 15,
   "metadata": {},
   "outputs": [],
   "source": [
    "speciesList, reactionList = loadChemkinFile(chemkin_path,\n",
    "                                            species_dict_path)"
   ]
  },
  {
   "cell_type": "code",
   "execution_count": 16,
   "metadata": {},
   "outputs": [],
   "source": [
    "speciesDict = {}\n",
    "for spe in speciesList:\n",
    "    speciesDict[spe.toChemkin()] = spe"
   ]
  },
  {
   "cell_type": "code",
   "execution_count": 17,
   "metadata": {},
   "outputs": [],
   "source": [
    "molecular_weight_distri = []\n",
    "for mf in moles_dict:\n",
    "    spe = speciesDict[mf]\n",
    "    molecular_weight_distri.append((spe.molecule[0].getMolecularWeight(), moles_dict[mf]))"
   ]
  },
  {
   "cell_type": "code",
   "execution_count": 18,
   "metadata": {},
   "outputs": [
    {
     "data": {
      "text/plain": [
       "'C6H11(36)'"
      ]
     },
     "execution_count": 18,
     "metadata": {},
     "output_type": "execute_result"
    }
   ],
   "source": [
    "mf"
   ]
  },
  {
   "cell_type": "code",
   "execution_count": 19,
   "metadata": {},
   "outputs": [
    {
     "data": {
      "text/plain": [
       "[(0.02906110032927245, 0.00016133679271812366),\n",
       " (0.12119952111970633, 3.082871290899818e-09),\n",
       " (0.13421816122718155, 1.5507707810758716e-07),\n",
       " (0.07013290072791278, 7.467593185944742e-05),\n",
       " (0.06811702065169811, 0.00027987665270078185),\n",
       " (0.09919400105718523, 1.0774201431940482e-07),\n",
       " (0.07911978068295866, 4.6195482683502335e-09),\n",
       " (0.0981860610190779, 1.865018264175197e-05),\n",
       " (0.07911978068295866, 9.188631287778981e-10),\n",
       " (0.08516742091160268, 3.779784640956907e-09),\n",
       " (0.07911978068295866, 2.6076081887761445e-08),\n",
       " (0.05711426062043756, 7.379928433104392e-07),\n",
       " (0.05308250046800822, 1.5130765222482113e-05),\n",
       " (0.083151540835388, 1.4323627953846155e-07),\n",
       " (0.08415948087349534, 0.0001525107655830342),\n",
       " (0.09516224090475589, 1.2133322821662665e-08),\n",
       " (0.09314636082854122, 7.995317095610027e-08),\n",
       " (0.08113566075917333, 2.795097044839624e-09),\n",
       " (0.13421816122718155, 5.263990817747734e-08),\n",
       " (0.12220746115781367, 5.010230786664657e-08),\n",
       " (0.04409562051296234, 0.006523190171263301),\n",
       " (0.07114084076602012, 5.065482325507751e-08),\n",
       " (0.043087680474855006, 1.0969230081964568e-05),\n",
       " (0.06710908061359078, 0.0005854610984392537),\n",
       " (0.08214360079728067, 0.00015786128462117035),\n",
       " (0.09617018094286323, 1.564424165877442e-05),\n",
       " (0.0010079400381073356, 2.3716728522601167e-05),\n",
       " (0.06811702065169811, 0.0021101557694667467),\n",
       " (0.05509838054422289, 1.9577202795583005e-06),\n",
       " (0.10717294097412378, 7.979066830932217e-10),\n",
       " (0.10616500093601644, 2.2781931007075267e-05),\n",
       " (0.06912496068980545, 1.0291869058777113e-07),\n",
       " (0.054090440506115556, 0.021557829254708245),\n",
       " (0.026037280214950442, 0.04990157910840322),\n",
       " (0.06408526049926877, 0.00030614522322156056),\n",
       " (0.0981860610190779, 2.100391837226609e-05),\n",
       " (0.13421816122718155, 4.530474803805091e-09),\n",
       " (0.1051570608979091, 1.0460887992114784e-09),\n",
       " (0.06710908061359078, 7.027446521616563e-08),\n",
       " (0.030069040367379785, 0.02525688097593229),\n",
       " (0.06912496068980545, 1.7083697733606511e-06),\n",
       " (0.10414912085980177, 8.084397777615494e-07),\n",
       " (0.09516224090475589, 1.0719533872488693e-09),\n",
       " (0.09415430086664855, 5.236218154251251e-06),\n",
       " (0.10414912085980177, 5.374604434841495e-06),\n",
       " (0.028053160291165113, 0.3758489624612905),\n",
       " (0.10616500093601644, 1.1170621043109137e-05),\n",
       " (0.05308250046800822, 6.305174626659815e-07),\n",
       " (0.05308250046800822, 3.542570017435997e-07),\n",
       " (0.10818088101223111, 1.8930405242536908e-05),\n",
       " (0.08516742091160268, 1.2936964878755667e-07),\n",
       " (0.052074560429900885, 0.00036593658011185366),\n",
       " (0.002015880076214671, 0.21658698185703487),\n",
       " (0.05610632058233023, 0.0012105332816366929),\n",
       " (0.07114084076602012, 2.2234696277077817e-08),\n",
       " (0.040063860360533, 0.019112156204465446),\n",
       " (0.052074560429900885, 0.006713955313779045),\n",
       " (0.040063860360533, 0.012863120202202658),\n",
       " (0.09113048075232655, 1.206549820693042e-08),\n",
       " (0.08911460067611188, 1.7063785377021807e-08),\n",
       " (0.06710908061359078, 1.6759341353755985e-07),\n",
       " (0.039055920322425663, 0.0012666624883336682),\n",
       " (0.05509838054422289, 8.479047442682654e-05),\n",
       " (0.0981860610190779, 3.301027488526296e-05),\n",
       " (0.10314118082169443, 1.81667469290474e-11),\n",
       " (0.09516224090475589, 6.289318997539874e-09),\n",
       " (0.10616500093601644, 1.6721253810377896e-06),\n",
       " (0.015034520183689892, 0.0005935462047518144),\n",
       " (0.07811184064485133, 0.00010372028544341182),\n",
       " (0.05711426062043756, 6.225033524909286e-08),\n",
       " (0.08113566075917333, 4.0231976090932405e-06),\n",
       " (0.10818088101223111, 3.2079090822662664e-06),\n",
       " (0.06912496068980545, 3.859833507413529e-07),\n",
       " (0.10717294097412378, 1.1829640884892622e-09),\n",
       " (0.11716776096727699, 4.680920289309568e-10),\n",
       " (0.09314636082854122, 7.559155544277646e-09),\n",
       " (0.09415430086664855, 1.0699178352576576e-05),\n",
       " (0.050058680353686213, 0.0006736926077116732),\n",
       " (0.05711426062043756, 3.6287025333427296e-07),\n",
       " (0.0650932005373761, 0.00013744148145921378),\n",
       " (0.10414912085980177, 3.885152924394718e-06),\n",
       " (0.05509838054422289, 7.511282487567487e-06),\n",
       " (0.09213842079043388, 7.504844179624896e-05),\n",
       " (0.09919400105718523, 4.363314475909324e-08),\n",
       " (0.027045220253057778, 3.366133582428619e-05),\n",
       " (0.05308250046800822, 3.1600150909008755e-05),\n",
       " (0.07013290072791278, 0.0009245721675853916),\n",
       " (0.08113566075917333, 1.1219603610541924e-08),\n",
       " (0.06811702065169811, 0.00030256915331343257),\n",
       " (0.10717294097412378, 1.3347764467940286e-10),\n",
       " (0.07811184064485133, 0.0014171038311855404),\n",
       " (0.041071800398640335, 4.874620476896722e-07),\n",
       " (0.11918364104349166, 2.701199197558853e-09),\n",
       " (0.05509838054422289, 8.438708768665188e-08),\n",
       " (0.043087680474855006, 3.3838756554182875e-06),\n",
       " (0.05509838054422289, 4.934007678405643e-08),\n",
       " (0.0650932005373761, 1.614137383812304e-07),\n",
       " (0.10414912085980177, 9.608312375448752e-06),\n",
       " (0.08113566075917333, 3.317495978248117e-08),\n",
       " (0.06610114057548344, 0.0011593556517782804),\n",
       " (0.10616500093601644, 8.047015613794345e-06),\n",
       " (0.07811184064485133, 0.00014479083170340032),\n",
       " (0.05509838054422289, 2.0183485094930157e-08),\n",
       " (0.041071800398640335, 0.0018589805239084694),\n",
       " (0.120191581081599, 1.1714706619746962e-06),\n",
       " (0.041071800398640335, 5.0172997145681675e-06),\n",
       " (0.080127720721066, 0.000657217424839639),\n",
       " (0.083151540835388, 1.714071021568413e-08),\n",
       " (0.09314636082854122, 3.0409421323398175e-09),\n",
       " (0.09113048075232655, 2.7424304659164936e-08),\n",
       " (0.10717294097412378, 1.1408005361812042e-09),\n",
       " (0.120191581081599, 3.3884745367550656e-05),\n",
       " (0.05509838054422289, 1.1914671249590533e-07),\n",
       " (0.016042460221797228, 0.13909101160049606),\n",
       " (0.10616500093601644, 1.6609928671348758e-05),\n",
       " (0.08214360079728067, 0.0005878533949365128),\n",
       " (0.10020194109529257, 0.0024168312449615427),\n",
       " (0.05106662039179355, 2.7313601461559835e-05),\n",
       " (0.10314118082169443, 1.3639884595818174e-10),\n",
       " (0.09919400105718523, 3.224468813108985e-08),\n",
       " (0.09314636082854122, 1.1105125431847217e-07),\n",
       " (0.06811702065169811, 0.003450091743673693),\n",
       " (0.10616500093601644, 1.3714527252204577e-06),\n",
       " (0.054090440506115556, 0.0017642102906229504),\n",
       " (0.07811184064485133, 0.00010433766595878985),\n",
       " (0.08113566075917333, 5.518514915360142e-08),\n",
       " (0.120191581081599, 3.2297162876218467e-07),\n",
       " (0.080127720721066, 0.0004961042326826061),\n",
       " (0.10717294097412378, 1.1809901577426428e-08),\n",
       " (0.09516224090475589, 1.8796460271224527e-07),\n",
       " (0.09314636082854122, 1.8650568228881816e-08),\n",
       " (0.05610632058233023, 0.012434085474542856),\n",
       " (0.09617018094286323, 2.569016187984425e-05),\n",
       " (0.08113566075917333, 2.330506848649466e-08),\n",
       " (0.083151540835388, 8.320823142965525e-09),\n",
       " (0.06710908061359078, 1.6334096133961876e-07),\n",
       " (0.08214360079728067, 2.5445097162461604e-05),\n",
       " (0.0650932005373761, 9.90080625166558e-09),\n",
       " (0.09919400105718523, 3.440139120218248e-08),\n",
       " (0.09314636082854122, 3.750580814561214e-09),\n",
       " (0.04207974043674767, 0.08846402685108595),\n",
       " (0.054090440506115556, 0.0012345395043706878),\n",
       " (0.07114084076602012, 1.662125280416981e-07),\n",
       " (0.06408526049926877, 0.00026502902588523684),\n",
       " (0.10616500093601644, 9.165807855953668e-06),\n",
       " (0.07911978068295866, 3.6194078498629796e-05),\n",
       " (0.09314636082854122, 1.0262463033457718e-09),\n",
       " (0.06912496068980545, 8.392779101187539e-07),\n",
       " (0.09617018094286323, 1.107608389007014e-05),\n",
       " (0.083151540835388, 8.28095826173703e-08)]"
      ]
     },
     "execution_count": 19,
     "metadata": {},
     "output_type": "execute_result"
    }
   ],
   "source": [
    "molecular_weight_distri"
   ]
  },
  {
   "cell_type": "code",
   "execution_count": 20,
   "metadata": {},
   "outputs": [],
   "source": [
    "mws = [tup[0]*1000 for tup in molecular_weight_distri]\n",
    "molefracs = [tup[1] for tup in molecular_weight_distri]"
   ]
  },
  {
   "cell_type": "code",
   "execution_count": 21,
   "metadata": {},
   "outputs": [
    {
     "data": {
      "text/plain": [
       "134.21816122718155"
      ]
     },
     "execution_count": 21,
     "metadata": {},
     "output_type": "execute_result"
    }
   ],
   "source": [
    "max(mws) # help "
   ]
  },
  {
   "cell_type": "code",
   "execution_count": 22,
   "metadata": {},
   "outputs": [],
   "source": [
    "summ = 0\n",
    "for a in moles_dict:\n",
    "    summ += moles_dict[a]"
   ]
  },
  {
   "cell_type": "code",
   "execution_count": 23,
   "metadata": {},
   "outputs": [
    {
     "data": {
      "text/plain": [
       "0.9999999995111915"
      ]
     },
     "execution_count": 23,
     "metadata": {},
     "output_type": "execute_result"
    }
   ],
   "source": [
    "summ"
   ]
  },
  {
   "cell_type": "code",
   "execution_count": 24,
   "metadata": {},
   "outputs": [],
   "source": [
    "numpy.savetxt(os.path.join(results_path, 'mwd.csv'), (mws, molefracs))"
   ]
  },
  {
   "cell_type": "code",
   "execution_count": null,
   "metadata": {},
   "outputs": [],
   "source": []
  }
 ],
 "metadata": {
  "kernelspec": {
   "display_name": "Python 2",
   "language": "python",
   "name": "python2"
  },
  "language_info": {
   "codemirror_mode": {
    "name": "ipython",
    "version": 2
   },
   "file_extension": ".py",
   "mimetype": "text/x-python",
   "name": "python",
   "nbconvert_exporter": "python",
   "pygments_lexer": "ipython2",
   "version": "2.7.15"
  }
 },
 "nbformat": 4,
 "nbformat_minor": 2
}
