{
 "cells": [
  {
   "cell_type": "markdown",
   "metadata": {},
   "source": [
    "# Fragment Mech Simulation with Reattachment"
   ]
  },
  {
   "cell_type": "code",
   "execution_count": 1,
   "metadata": {},
   "outputs": [],
   "source": [
    "import os\n",
    "import matplotlib.pyplot as plt\n",
    "%matplotlib inline"
   ]
  },
  {
   "cell_type": "code",
   "execution_count": 2,
   "metadata": {},
   "outputs": [],
   "source": [
    "from rmgpy.chemkin import *\n",
    "from rmgpy.species import Species"
   ]
  },
  {
   "cell_type": "code",
   "execution_count": 3,
   "metadata": {},
   "outputs": [
    {
     "name": "stderr",
     "output_type": "stream",
     "text": [
      "/home/yentingw/RMG/RMG-Py/rmgpy/tools/plot.py:31: UserWarning: \n",
      "This call to matplotlib.use() has no effect because the backend has already\n",
      "been chosen; matplotlib.use() must be called *before* pylab, matplotlib.pyplot,\n",
      "or matplotlib.backends is imported for the first time.\n",
      "\n",
      "The backend was *originally* set to 'module://ipykernel.pylab.backend_inline' by the following code:\n",
      "  File \"/home/yentingw/anaconda2/envs/rmg_env/lib/python2.7/runpy.py\", line 174, in _run_module_as_main\n",
      "    \"__main__\", fname, loader, pkg_name)\n",
      "  File \"/home/yentingw/anaconda2/envs/rmg_env/lib/python2.7/runpy.py\", line 72, in _run_code\n",
      "    exec code in run_globals\n",
      "  File \"/home/yentingw/anaconda2/envs/rmg_env/lib/python2.7/site-packages/ipykernel_launcher.py\", line 16, in <module>\n",
      "    app.launch_new_instance()\n",
      "  File \"/home/yentingw/anaconda2/envs/rmg_env/lib/python2.7/site-packages/traitlets/config/application.py\", line 658, in launch_instance\n",
      "    app.start()\n",
      "  File \"/home/yentingw/anaconda2/envs/rmg_env/lib/python2.7/site-packages/ipykernel/kernelapp.py\", line 478, in start\n",
      "    self.io_loop.start()\n",
      "  File \"/home/yentingw/anaconda2/envs/rmg_env/lib/python2.7/site-packages/zmq/eventloop/ioloop.py\", line 177, in start\n",
      "    super(ZMQIOLoop, self).start()\n",
      "  File \"/home/yentingw/anaconda2/envs/rmg_env/lib/python2.7/site-packages/tornado/ioloop.py\", line 888, in start\n",
      "    handler_func(fd_obj, events)\n",
      "  File \"/home/yentingw/anaconda2/envs/rmg_env/lib/python2.7/site-packages/tornado/stack_context.py\", line 277, in null_wrapper\n",
      "    return fn(*args, **kwargs)\n",
      "  File \"/home/yentingw/anaconda2/envs/rmg_env/lib/python2.7/site-packages/zmq/eventloop/zmqstream.py\", line 440, in _handle_events\n",
      "    self._handle_recv()\n",
      "  File \"/home/yentingw/anaconda2/envs/rmg_env/lib/python2.7/site-packages/zmq/eventloop/zmqstream.py\", line 472, in _handle_recv\n",
      "    self._run_callback(callback, msg)\n",
      "  File \"/home/yentingw/anaconda2/envs/rmg_env/lib/python2.7/site-packages/zmq/eventloop/zmqstream.py\", line 414, in _run_callback\n",
      "    callback(*args, **kwargs)\n",
      "  File \"/home/yentingw/anaconda2/envs/rmg_env/lib/python2.7/site-packages/tornado/stack_context.py\", line 277, in null_wrapper\n",
      "    return fn(*args, **kwargs)\n",
      "  File \"/home/yentingw/anaconda2/envs/rmg_env/lib/python2.7/site-packages/ipykernel/kernelbase.py\", line 281, in dispatcher\n",
      "    return self.dispatch_shell(stream, msg)\n",
      "  File \"/home/yentingw/anaconda2/envs/rmg_env/lib/python2.7/site-packages/ipykernel/kernelbase.py\", line 232, in dispatch_shell\n",
      "    handler(stream, idents, msg)\n",
      "  File \"/home/yentingw/anaconda2/envs/rmg_env/lib/python2.7/site-packages/ipykernel/kernelbase.py\", line 397, in execute_request\n",
      "    user_expressions, allow_stdin)\n",
      "  File \"/home/yentingw/anaconda2/envs/rmg_env/lib/python2.7/site-packages/ipykernel/ipkernel.py\", line 208, in do_execute\n",
      "    res = shell.run_cell(code, store_history=store_history, silent=silent)\n",
      "  File \"/home/yentingw/anaconda2/envs/rmg_env/lib/python2.7/site-packages/ipykernel/zmqshell.py\", line 533, in run_cell\n",
      "    return super(ZMQInteractiveShell, self).run_cell(*args, **kwargs)\n",
      "  File \"/home/yentingw/anaconda2/envs/rmg_env/lib/python2.7/site-packages/IPython/core/interactiveshell.py\", line 2728, in run_cell\n",
      "    self.events.trigger('post_run_cell')\n",
      "  File \"/home/yentingw/anaconda2/envs/rmg_env/lib/python2.7/site-packages/IPython/core/events.py\", line 74, in trigger\n",
      "    func(*args, **kwargs)\n",
      "  File \"/home/yentingw/anaconda2/envs/rmg_env/lib/python2.7/site-packages/ipykernel/pylab/backend_inline.py\", line 160, in configure_once\n",
      "    activate_matplotlib(backend)\n",
      "  File \"/home/yentingw/anaconda2/envs/rmg_env/lib/python2.7/site-packages/IPython/core/pylabtools.py\", line 308, in activate_matplotlib\n",
      "    matplotlib.pyplot.switch_backend(backend)\n",
      "  File \"/home/yentingw/anaconda2/envs/rmg_env/lib/python2.7/site-packages/matplotlib/pyplot.py\", line 232, in switch_backend\n",
      "    matplotlib.use(newbackend, warn=False, force=True)\n",
      "  File \"/home/yentingw/anaconda2/envs/rmg_env/lib/python2.7/site-packages/matplotlib/__init__.py\", line 1305, in use\n",
      "    reload(sys.modules['matplotlib.backends'])\n",
      "  File \"/home/yentingw/anaconda2/envs/rmg_env/lib/python2.7/site-packages/matplotlib/backends/__init__.py\", line 14, in <module>\n",
      "    line for line in traceback.format_stack()\n",
      "\n",
      "\n",
      "  mpl.use('Agg')\n"
     ]
    }
   ],
   "source": [
    "from afm.simulator import OdeSimulator\n",
    "import afm.utils\n",
    "import afm.simulator"
   ]
  },
  {
   "cell_type": "markdown",
   "metadata": {},
   "source": [
    "## 1. specify condition and simulate"
   ]
  },
  {
   "cell_type": "code",
   "execution_count": 4,
   "metadata": {},
   "outputs": [],
   "source": [
    "temperature = 673.15 # K\n",
    "pressure = 350*3.75 # bar\n",
    "\n",
    "initial_mol_fraction = {\n",
    "    \"ArCCCCR\":1.0,\n",
    "    \"LCCCCR\":1.75,\n",
    "    \"LC\":1.0\n",
    "}\n",
    "\n",
    "termination_time = 3600*14 # hrs"
   ]
  },
  {
   "cell_type": "code",
   "execution_count": 5,
   "metadata": {},
   "outputs": [],
   "source": [
    "model = 'two-sided'\n",
    "\n",
    "working_dir = os.path.join('../', 'data', 'pdd_chemistry', model)\n",
    "chemkin_path = os.path.join(working_dir, 'chem_annotated.inp')\n",
    "species_dict_path = os.path.join(working_dir, 'species_dictionary.txt')\n",
    "smiles_dict_path = os.path.join(working_dir, 'fragment_smiles.txt')"
   ]
  },
  {
   "cell_type": "code",
   "execution_count": 6,
   "metadata": {},
   "outputs": [],
   "source": [
    "ode_simulator = OdeSimulator(chemkin_path,\n",
    "                             species_dict_path,\n",
    "                             smiles_dict_path,\n",
    "                             temperature,\n",
    "                             pressure)"
   ]
  },
  {
   "cell_type": "code",
   "execution_count": 7,
   "metadata": {},
   "outputs": [
    {
     "name": "stdout",
     "output_type": "stream",
     "text": [
      "WARNING: 'ReactorNet::step(t)' is deprecated. The argument to this function is deprecated and will be removed after Cantera 2.3.\n"
     ]
    }
   ],
   "source": [
    "alldata = ode_simulator.simulate(initial_mol_fraction, termination_time)"
   ]
  },
  {
   "cell_type": "code",
   "execution_count": 8,
   "metadata": {},
   "outputs": [],
   "source": [
    "results_path = os.path.join(working_dir, 'results')\n",
    "if not os.path.exists(results_path):\n",
    "    os.mkdir(results_path)"
   ]
  },
  {
   "cell_type": "markdown",
   "metadata": {},
   "source": [
    "## 2. reactant conversion"
   ]
  },
  {
   "cell_type": "code",
   "execution_count": 9,
   "metadata": {},
   "outputs": [],
   "source": [
    "# prepare moles data\n",
    "time, dataList, _ = alldata[0]\n",
    "TData = dataList[0]\n",
    "PData = dataList[1]\n",
    "VData = dataList[2]\n",
    "total_moles = PData.data*VData.data/8.314/TData.data\n",
    "\n",
    "moles_dict = {}\n",
    "for data in dataList[3:]:\n",
    "    spe_label = data.label\n",
    "    moles_dict[spe_label] = max(data.data[-1]*total_moles[-1],0)"
   ]
  },
  {
   "cell_type": "code",
   "execution_count": 10,
   "metadata": {
    "scrolled": true
   },
   "outputs": [
    {
     "name": "stdout",
     "output_type": "stream",
     "text": [
      "ArCCCCR\n"
     ]
    }
   ],
   "source": [
    "ArCCCCR_mf = dataList[3].data\n",
    "print dataList[3].label\n",
    "ArCCCCR_moles = ArCCCCR_mf*total_moles\n",
    "ArCCCCR_conv = (ArCCCCR_moles[0]-ArCCCCR_moles)/ArCCCCR_moles[0]"
   ]
  },
  {
   "cell_type": "code",
   "execution_count": 11,
   "metadata": {},
   "outputs": [
    {
     "data": {
      "image/png": "[encoded data removed]",
      "text/plain": [
       "<matplotlib.figure.Figure at 0x7f3fe17a0990>"
      ]
     },
     "metadata": {},
     "output_type": "display_data"
    }
   ],
   "source": [
    "plt.plot(time.data, ArCCCCR_conv)\n",
    "numpy.savetxt(os.path.join(results_path, 'reactant_conv.csv'), (time.data, ArCCCCR_conv))"
   ]
  },
  {
   "cell_type": "markdown",
   "metadata": {},
   "source": [
    "## 3. molecular weight distribution"
   ]
  },
  {
   "cell_type": "code",
   "execution_count": 12,
   "metadata": {},
   "outputs": [],
   "source": [
    "fragmental_weight_distri = ode_simulator.get_molecular_weight_distribution(alldata)"
   ]
  },
  {
   "cell_type": "code",
   "execution_count": 13,
   "metadata": {},
   "outputs": [],
   "source": [
    "mws = [tup[0]*1000 for tup in fragmental_weight_distri]\n",
    "moles = [tup[1] for tup in fragmental_weight_distri]\n",
    "\n",
    "molefracs = moles/sum(moles)"
   ]
  },
  {
   "cell_type": "code",
   "execution_count": 14,
   "metadata": {},
   "outputs": [],
   "source": [
    "numpy.savetxt(os.path.join(results_path, 'mwd.csv'), (mws, molefracs))"
   ]
  }
 ],
 "metadata": {
  "anaconda-cloud": {},
  "kernelspec": {
   "display_name": "Python 2",
   "language": "python",
   "name": "python2"
  },
  "language_info": {
   "codemirror_mode": {
    "name": "ipython",
    "version": 2
   },
   "file_extension": ".py",
   "mimetype": "text/x-python",
   "name": "python",
   "nbconvert_exporter": "python",
   "pygments_lexer": "ipython2",
   "version": "2.7.14"
  }
 },
 "nbformat": 4,
 "nbformat_minor": 1
}
