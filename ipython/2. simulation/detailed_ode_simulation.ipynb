{
 "cells": [
  {
   "cell_type": "markdown",
   "metadata": {},
   "source": [
    "# Detailed Mech Simulation"
   ]
  },
  {
   "cell_type": "code",
   "execution_count": 1,
   "metadata": {},
   "outputs": [],
   "source": [
    "import os\n",
    "import matplotlib\n",
    "import matplotlib.pyplot as plt\n",
    "from IPython.display import display, Image\n",
    "%matplotlib inline"
   ]
  },
  {
   "cell_type": "code",
   "execution_count": 2,
   "metadata": {},
   "outputs": [],
   "source": [
    "from rmgpy.chemkin import *\n",
    "from rmgpy.species import Species"
   ]
  },
  {
   "cell_type": "code",
   "execution_count": 3,
   "metadata": {},
   "outputs": [
    {
     "name": "stderr",
     "output_type": "stream",
     "text": [
      "/home/yentingw/RMG/RMG-Py/rmgpy/tools/plot.py:31: UserWarning: \n",
      "This call to matplotlib.use() has no effect because the backend has already\n",
      "been chosen; matplotlib.use() must be called *before* pylab, matplotlib.pyplot,\n",
      "or matplotlib.backends is imported for the first time.\n",
      "\n",
      "The backend was *originally* set to 'module://ipykernel.pylab.backend_inline' by the following code:\n",
      "  File \"/home/yentingw/anaconda2/envs/rmg_env/lib/python2.7/runpy.py\", line 174, in _run_module_as_main\n",
      "    \"__main__\", fname, loader, pkg_name)\n",
      "  File \"/home/yentingw/anaconda2/envs/rmg_env/lib/python2.7/runpy.py\", line 72, in _run_code\n",
      "    exec code in run_globals\n",
      "  File \"/home/yentingw/anaconda2/envs/rmg_env/lib/python2.7/site-packages/ipykernel_launcher.py\", line 16, in <module>\n",
      "    app.launch_new_instance()\n",
      "  File \"/home/yentingw/anaconda2/envs/rmg_env/lib/python2.7/site-packages/traitlets/config/application.py\", line 658, in launch_instance\n",
      "    app.start()\n",
      "  File \"/home/yentingw/anaconda2/envs/rmg_env/lib/python2.7/site-packages/ipykernel/kernelapp.py\", line 478, in start\n",
      "    self.io_loop.start()\n",
      "  File \"/home/yentingw/anaconda2/envs/rmg_env/lib/python2.7/site-packages/zmq/eventloop/ioloop.py\", line 177, in start\n",
      "    super(ZMQIOLoop, self).start()\n",
      "  File \"/home/yentingw/anaconda2/envs/rmg_env/lib/python2.7/site-packages/tornado/ioloop.py\", line 888, in start\n",
      "    handler_func(fd_obj, events)\n",
      "  File \"/home/yentingw/anaconda2/envs/rmg_env/lib/python2.7/site-packages/tornado/stack_context.py\", line 277, in null_wrapper\n",
      "    return fn(*args, **kwargs)\n",
      "  File \"/home/yentingw/anaconda2/envs/rmg_env/lib/python2.7/site-packages/zmq/eventloop/zmqstream.py\", line 440, in _handle_events\n",
      "    self._handle_recv()\n",
      "  File \"/home/yentingw/anaconda2/envs/rmg_env/lib/python2.7/site-packages/zmq/eventloop/zmqstream.py\", line 472, in _handle_recv\n",
      "    self._run_callback(callback, msg)\n",
      "  File \"/home/yentingw/anaconda2/envs/rmg_env/lib/python2.7/site-packages/zmq/eventloop/zmqstream.py\", line 414, in _run_callback\n",
      "    callback(*args, **kwargs)\n",
      "  File \"/home/yentingw/anaconda2/envs/rmg_env/lib/python2.7/site-packages/tornado/stack_context.py\", line 277, in null_wrapper\n",
      "    return fn(*args, **kwargs)\n",
      "  File \"/home/yentingw/anaconda2/envs/rmg_env/lib/python2.7/site-packages/ipykernel/kernelbase.py\", line 281, in dispatcher\n",
      "    return self.dispatch_shell(stream, msg)\n",
      "  File \"/home/yentingw/anaconda2/envs/rmg_env/lib/python2.7/site-packages/ipykernel/kernelbase.py\", line 232, in dispatch_shell\n",
      "    handler(stream, idents, msg)\n",
      "  File \"/home/yentingw/anaconda2/envs/rmg_env/lib/python2.7/site-packages/ipykernel/kernelbase.py\", line 397, in execute_request\n",
      "    user_expressions, allow_stdin)\n",
      "  File \"/home/yentingw/anaconda2/envs/rmg_env/lib/python2.7/site-packages/ipykernel/ipkernel.py\", line 208, in do_execute\n",
      "    res = shell.run_cell(code, store_history=store_history, silent=silent)\n",
      "  File \"/home/yentingw/anaconda2/envs/rmg_env/lib/python2.7/site-packages/ipykernel/zmqshell.py\", line 533, in run_cell\n",
      "    return super(ZMQInteractiveShell, self).run_cell(*args, **kwargs)\n",
      "  File \"/home/yentingw/anaconda2/envs/rmg_env/lib/python2.7/site-packages/IPython/core/interactiveshell.py\", line 2728, in run_cell\n",
      "    self.events.trigger('post_run_cell')\n",
      "  File \"/home/yentingw/anaconda2/envs/rmg_env/lib/python2.7/site-packages/IPython/core/events.py\", line 74, in trigger\n",
      "    func(*args, **kwargs)\n",
      "  File \"/home/yentingw/anaconda2/envs/rmg_env/lib/python2.7/site-packages/ipykernel/pylab/backend_inline.py\", line 160, in configure_once\n",
      "    activate_matplotlib(backend)\n",
      "  File \"/home/yentingw/anaconda2/envs/rmg_env/lib/python2.7/site-packages/IPython/core/pylabtools.py\", line 308, in activate_matplotlib\n",
      "    matplotlib.pyplot.switch_backend(backend)\n",
      "  File \"/home/yentingw/anaconda2/envs/rmg_env/lib/python2.7/site-packages/matplotlib/pyplot.py\", line 232, in switch_backend\n",
      "    matplotlib.use(newbackend, warn=False, force=True)\n",
      "  File \"/home/yentingw/anaconda2/envs/rmg_env/lib/python2.7/site-packages/matplotlib/__init__.py\", line 1305, in use\n",
      "    reload(sys.modules['matplotlib.backends'])\n",
      "  File \"/home/yentingw/anaconda2/envs/rmg_env/lib/python2.7/site-packages/matplotlib/backends/__init__.py\", line 14, in <module>\n",
      "    line for line in traceback.format_stack()\n",
      "\n",
      "\n",
      "  mpl.use('Agg')\n"
     ]
    }
   ],
   "source": [
    "from afm.canteraModel import Cantera"
   ]
  },
  {
   "cell_type": "code",
   "execution_count": 20,
   "metadata": {
    "collapsed": true
   },
   "outputs": [],
   "source": [
    "results_path = os.path.join(working_dir, 'results')\n",
    "if not os.path.exists(results_path):\n",
    "    os.mkdir(results_path)"
   ]
  },
  {
   "cell_type": "markdown",
   "metadata": {},
   "source": [
    "## 1. specify condition and simulate"
   ]
  },
  {
   "cell_type": "code",
   "execution_count": 4,
   "metadata": {},
   "outputs": [],
   "source": [
    "model = 'pdd_2014_pruning4_s4_a3ene_c11'\n",
    "\n",
    "working_dir = os.path.join('../', 'data', 'pdd_chemistry', 'detailed', model)\n",
    "chemkin_path = os.path.join(working_dir, 'chem_annotated.inp')\n",
    "species_dict_path = os.path.join(working_dir, 'species_dictionary.txt')"
   ]
  },
  {
   "cell_type": "code",
   "execution_count": 16,
   "metadata": {},
   "outputs": [],
   "source": [
    "speciesList, reactionList = loadChemkinFile(chemkin_path,\n",
    "                                            species_dict_path)"
   ]
  },
  {
   "cell_type": "code",
   "execution_count": 17,
   "metadata": {},
   "outputs": [],
   "source": [
    "speciesDict = {}\n",
    "for spe in speciesList:\n",
    "    speciesDict[spe.toChemkin()] = spe"
   ]
  },
  {
   "cell_type": "code",
   "execution_count": 18,
   "metadata": {},
   "outputs": [],
   "source": [
    "# Find the species: ArCCCCR, RCCCCR, RC\n",
    "pdd = speciesDict['PDD(1)']\n",
    "reactorTypeList = ['IdealGasConstPressureTemperatureReactor']\n",
    "molFracList=[{pdd: 1}]\n",
    "Tlist = ([673.15],'K')\n",
    "Plist = ([350],'bar')\n",
    "reactionTimeList = ([3600*14], 's')"
   ]
  },
  {
   "cell_type": "code",
   "execution_count": 19,
   "metadata": {
    "scrolled": true
   },
   "outputs": [
    {
     "ename": "RuntimeError",
     "evalue": "\n***********************************************************************\nCanteraError thrown by Phase::setMoleFractionsByName:\nUnknown species 'PDD(1)'\n***********************************************************************\n",
     "output_type": "error",
     "traceback": [
      "\u001b[0;31m---------------------------------------------------------------------------\u001b[0m",
      "\u001b[0;31mRuntimeError\u001b[0m                              Traceback (most recent call last)",
      "\u001b[0;32m<ipython-input-19-000fef28ae85>\u001b[0m in \u001b[0;36m<module>\u001b[0;34m()\u001b[0m\n\u001b[1;32m      2\u001b[0m \u001b[0mjob\u001b[0m\u001b[0;34m.\u001b[0m\u001b[0mloadModel\u001b[0m\u001b[0;34m(\u001b[0m\u001b[0;34m)\u001b[0m\u001b[0;34m\u001b[0m\u001b[0m\n\u001b[1;32m      3\u001b[0m \u001b[0mjob\u001b[0m\u001b[0;34m.\u001b[0m\u001b[0mgenerateConditions\u001b[0m\u001b[0;34m(\u001b[0m\u001b[0mreactorTypeList\u001b[0m\u001b[0;34m,\u001b[0m \u001b[0mreactionTimeList\u001b[0m\u001b[0;34m,\u001b[0m \u001b[0mmolFracList\u001b[0m\u001b[0;34m,\u001b[0m \u001b[0mTlist\u001b[0m\u001b[0;34m,\u001b[0m \u001b[0mPlist\u001b[0m\u001b[0;34m)\u001b[0m\u001b[0;34m\u001b[0m\u001b[0m\n\u001b[0;32m----> 4\u001b[0;31m \u001b[0malldata\u001b[0m \u001b[0;34m=\u001b[0m \u001b[0mjob\u001b[0m\u001b[0;34m.\u001b[0m\u001b[0msimulate\u001b[0m\u001b[0;34m(\u001b[0m\u001b[0;34m)\u001b[0m\u001b[0;34m\u001b[0m\u001b[0m\n\u001b[0m",
      "\u001b[0;32m/home/yentingw/AutoFragmentModeling/afm/canteraModel.pyc\u001b[0m in \u001b[0;36msimulate\u001b[0;34m(self)\u001b[0m\n\u001b[1;32m    350\u001b[0m             \u001b[0;31m# Set Cantera simulation conditions\u001b[0m\u001b[0;34m\u001b[0m\u001b[0;34m\u001b[0m\u001b[0m\n\u001b[1;32m    351\u001b[0m             \u001b[0;32mif\u001b[0m \u001b[0mcondition\u001b[0m\u001b[0;34m.\u001b[0m\u001b[0mV0\u001b[0m \u001b[0;32mis\u001b[0m \u001b[0mNone\u001b[0m\u001b[0;34m:\u001b[0m\u001b[0;34m\u001b[0m\u001b[0m\n\u001b[0;32m--> 352\u001b[0;31m                 \u001b[0mself\u001b[0m\u001b[0;34m.\u001b[0m\u001b[0mmodel\u001b[0m\u001b[0;34m.\u001b[0m\u001b[0mTPX\u001b[0m \u001b[0;34m=\u001b[0m \u001b[0mcondition\u001b[0m\u001b[0;34m.\u001b[0m\u001b[0mT0\u001b[0m\u001b[0;34m.\u001b[0m\u001b[0mvalue_si\u001b[0m\u001b[0;34m,\u001b[0m \u001b[0mcondition\u001b[0m\u001b[0;34m.\u001b[0m\u001b[0mP0\u001b[0m\u001b[0;34m.\u001b[0m\u001b[0mvalue_si\u001b[0m\u001b[0;34m,\u001b[0m \u001b[0mnewMolFrac\u001b[0m\u001b[0;34m\u001b[0m\u001b[0m\n\u001b[0m\u001b[1;32m    353\u001b[0m             \u001b[0;32melif\u001b[0m \u001b[0mcondition\u001b[0m\u001b[0;34m.\u001b[0m\u001b[0mP0\u001b[0m \u001b[0;32mis\u001b[0m \u001b[0mNone\u001b[0m\u001b[0;34m:\u001b[0m\u001b[0;34m\u001b[0m\u001b[0m\n\u001b[1;32m    354\u001b[0m                 \u001b[0mself\u001b[0m\u001b[0;34m.\u001b[0m\u001b[0mmodel\u001b[0m\u001b[0;34m.\u001b[0m\u001b[0mTDX\u001b[0m \u001b[0;34m=\u001b[0m \u001b[0mcondition\u001b[0m\u001b[0;34m.\u001b[0m\u001b[0mT0\u001b[0m\u001b[0;34m.\u001b[0m\u001b[0mvalue_si\u001b[0m\u001b[0;34m,\u001b[0m \u001b[0;36m1.0\u001b[0m\u001b[0;34m/\u001b[0m\u001b[0mcondition\u001b[0m\u001b[0;34m.\u001b[0m\u001b[0mV0\u001b[0m\u001b[0;34m.\u001b[0m\u001b[0mvalue_si\u001b[0m\u001b[0;34m,\u001b[0m \u001b[0mnewMolFrac\u001b[0m\u001b[0;34m\u001b[0m\u001b[0m\n",
      "\u001b[0;32minterfaces/cython/cantera/thermo.pyx\u001b[0m in \u001b[0;36mcantera._cantera.ThermoPhase.TPX.__set__ (interfaces/cython/cantera/_cantera.cpp:21530)\u001b[0;34m()\u001b[0m\n",
      "\u001b[0;32minterfaces/cython/cantera/thermo.pyx\u001b[0m in \u001b[0;36mcantera._cantera.ThermoPhase.X.__set__ (interfaces/cython/cantera/_cantera.cpp:17071)\u001b[0;34m()\u001b[0m\n",
      "\u001b[0;31mRuntimeError\u001b[0m: \n***********************************************************************\nCanteraError thrown by Phase::setMoleFractionsByName:\nUnknown species 'PDD(1)'\n***********************************************************************\n"
     ]
    }
   ],
   "source": [
    "job = Cantera(speciesList=speciesList, reactionList=reactionList, outputDirectory='temp_detailed')\n",
    "job.loadModel()\n",
    "job.generateConditions(reactorTypeList, reactionTimeList, molFracList, Tlist, Plist)\n",
    "alldata = job.simulate()"
   ]
  },
  {
   "cell_type": "markdown",
   "metadata": {},
   "source": [
    "## 2. reactant conversion"
   ]
  },
  {
   "cell_type": "code",
   "execution_count": 9,
   "metadata": {},
   "outputs": [
    {
     "ename": "NameError",
     "evalue": "name 'alldata' is not defined",
     "output_type": "error",
     "traceback": [
      "\u001b[0;31m---------------------------------------------------------------------------\u001b[0m",
      "\u001b[0;31mNameError\u001b[0m                                 Traceback (most recent call last)",
      "\u001b[0;32m<ipython-input-9-80ef56b97e7c>\u001b[0m in \u001b[0;36m<module>\u001b[0;34m()\u001b[0m\n\u001b[1;32m      1\u001b[0m \u001b[0;31m# prepare moles data\u001b[0m\u001b[0;34m\u001b[0m\u001b[0;34m\u001b[0m\u001b[0m\n\u001b[0;32m----> 2\u001b[0;31m \u001b[0mtime\u001b[0m\u001b[0;34m,\u001b[0m \u001b[0mdataList\u001b[0m\u001b[0;34m,\u001b[0m \u001b[0mreactionSensitivityData\u001b[0m \u001b[0;34m=\u001b[0m \u001b[0malldata\u001b[0m\u001b[0;34m[\u001b[0m\u001b[0;36m0\u001b[0m\u001b[0;34m]\u001b[0m\u001b[0;34m\u001b[0m\u001b[0m\n\u001b[0m\u001b[1;32m      3\u001b[0m \u001b[0mTData\u001b[0m \u001b[0;34m=\u001b[0m \u001b[0mdataList\u001b[0m\u001b[0;34m[\u001b[0m\u001b[0;36m0\u001b[0m\u001b[0;34m]\u001b[0m\u001b[0;34m\u001b[0m\u001b[0m\n\u001b[1;32m      4\u001b[0m \u001b[0mPData\u001b[0m \u001b[0;34m=\u001b[0m \u001b[0mdataList\u001b[0m\u001b[0;34m[\u001b[0m\u001b[0;36m1\u001b[0m\u001b[0;34m]\u001b[0m\u001b[0;34m\u001b[0m\u001b[0m\n\u001b[1;32m      5\u001b[0m \u001b[0mVData\u001b[0m \u001b[0;34m=\u001b[0m \u001b[0mdataList\u001b[0m\u001b[0;34m[\u001b[0m\u001b[0;36m2\u001b[0m\u001b[0;34m]\u001b[0m\u001b[0;34m\u001b[0m\u001b[0m\n",
      "\u001b[0;31mNameError\u001b[0m: name 'alldata' is not defined"
     ]
    }
   ],
   "source": [
    "# prepare moles data\n",
    "time, dataList, reactionSensitivityData = alldata[0]\n",
    "TData = dataList[0]\n",
    "PData = dataList[1]\n",
    "VData = dataList[2]\n",
    "total_moles = PData.data*VData.data/8.314/TData.data"
   ]
  },
  {
   "cell_type": "code",
   "execution_count": 12,
   "metadata": {},
   "outputs": [
    {
     "name": "stdout",
     "output_type": "stream",
     "text": [
      "PDD(1)\n"
     ]
    }
   ],
   "source": [
    "pdd_mf = dataList[7].data\n",
    "print dataList[7].label\n",
    "pdd_moles = pdd_mf*total_moles\n",
    "pdd_conv = (pdd_moles[0]-pdd_moles)/pdd_moles[0]"
   ]
  },
  {
   "cell_type": "code",
   "execution_count": 22,
   "metadata": {},
   "outputs": [
    {
     "data": {
      "image/png": "[encoded data removed]",
      "text/plain": [
       "<matplotlib.figure.Figure at 0x1206e52d0>"
      ]
     },
     "metadata": {},
     "output_type": "display_data"
    }
   ],
   "source": [
    "plt.plot(time.data, pdd_conv)\n",
    "numpy.savetxt(os.path.join(results_path, 'reactant_conv.csv'), (time.data, pdd_conv))"
   ]
  },
  {
   "cell_type": "markdown",
   "metadata": {},
   "source": [
    "## 3. molecular weight distribution"
   ]
  },
  {
   "cell_type": "code",
   "execution_count": 14,
   "metadata": {
    "collapsed": true
   },
   "outputs": [],
   "source": [
    "molecular_weight_distri = []\n",
    "for mf in dataList[3:]:\n",
    "    spe = speciesDict[mf.label]\n",
    "    molecular_weight_distri.append((spe.molecule[0].getMolecularWeight(), mf.data[-1]))"
   ]
  },
  {
   "cell_type": "code",
   "execution_count": 17,
   "metadata": {
    "collapsed": true
   },
   "outputs": [],
   "source": [
    "mws = [tup[0]*1000 for tup in molecular_weight_distri]\n",
    "molefracs = [tup[1] for tup in molecular_weight_distri]"
   ]
  },
  {
   "cell_type": "code",
   "execution_count": 19,
   "metadata": {
    "collapsed": true
   },
   "outputs": [],
   "source": [
    "numpy.savetxt(os.path.join(results_path, 'mwd.csv'), (mws, molefracs))"
   ]
  },
  {
   "cell_type": "code",
   "execution_count": null,
   "metadata": {
    "collapsed": true
   },
   "outputs": [],
   "source": []
  }
 ],
 "metadata": {
  "anaconda-cloud": {},
  "kernelspec": {
   "display_name": "Python 2",
   "language": "python",
   "name": "python2"
  },
  "language_info": {
   "codemirror_mode": {
    "name": "ipython",
    "version": 2
   },
   "file_extension": ".py",
   "mimetype": "text/x-python",
   "name": "python",
   "nbconvert_exporter": "python",
   "pygments_lexer": "ipython2",
   "version": "2.7.14"
  }
 },
 "nbformat": 4,
 "nbformat_minor": 1
}
