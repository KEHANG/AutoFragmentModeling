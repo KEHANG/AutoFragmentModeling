{
 "cells": [
  {
   "cell_type": "markdown",
   "metadata": {},
   "source": [
    "# Detailed Mech Simulation"
   ]
  },
  {
   "cell_type": "code",
   "execution_count": null,
   "metadata": {
    "collapsed": true
   },
   "outputs": [],
   "source": [
    "import os\n",
    "import matplotlib\n",
    "import matplotlib.pyplot as plt\n",
    "from IPython.display import display, Image\n",
    "%matplotlib inline"
   ]
  },
  {
   "cell_type": "code",
   "execution_count": null,
   "metadata": {
    "collapsed": true
   },
   "outputs": [],
   "source": [
    "from rmgpy.chemkin import *\n",
    "from rmgpy.species import Species"
   ]
  },
  {
   "cell_type": "code",
   "execution_count": null,
   "metadata": {
    "collapsed": false
   },
   "outputs": [],
   "source": [
    "from afm.canteraModel import Cantera"
   ]
  },
  {
   "cell_type": "markdown",
   "metadata": {},
   "source": [
    "## 1. specify condition and simulate"
   ]
  },
  {
   "cell_type": "code",
   "execution_count": null,
   "metadata": {
    "collapsed": true
   },
   "outputs": [],
   "source": [
    "model = 'pdd_2014_pruning4_s4_a3ene_c11'\n",
    "\n",
    "working_dir = os.path.join('../', 'data', 'pdd_chemistry', 'detailed', model)\n",
    "chemkin_path = os.path.join(working_dir, 'chem_annotated.inp')\n",
    "species_dict_path = os.path.join(working_dir, 'species_dictionary.txt')"
   ]
  },
  {
   "cell_type": "code",
   "execution_count": null,
   "metadata": {
    "collapsed": false
   },
   "outputs": [],
   "source": [
    "results_path = os.path.join(working_dir, 'results')\n",
    "if not os.path.exists(results_path):\n",
    "    os.mkdir(results_path)"
   ]
  },
  {
   "cell_type": "code",
   "execution_count": null,
   "metadata": {
    "collapsed": true
   },
   "outputs": [],
   "source": [
    "speciesList, reactionList = loadChemkinFile(chemkin_path,\n",
    "                                            species_dict_path)"
   ]
  },
  {
   "cell_type": "code",
   "execution_count": null,
   "metadata": {
    "collapsed": true
   },
   "outputs": [],
   "source": [
    "speciesDict = {}\n",
    "for spe in speciesList:\n",
    "    speciesDict[spe.toChemkin()] = spe"
   ]
  },
  {
   "cell_type": "code",
   "execution_count": null,
   "metadata": {
    "collapsed": true
   },
   "outputs": [],
   "source": [
    "# Find the species: ArCCCCR, RCCCCR, RC\n",
    "pdd = speciesDict['PDD(1)']\n",
    "\n",
    "reactorTypeList = ['IdealGasConstPressureTemperatureReactor']\n",
    "molFracList=[{pdd: 1}]\n",
    "Tlist = ([673.15],'K')\n",
    "Plist = ([350],'bar')\n",
    "reactionTimeList = ([3600*14], 's')"
   ]
  },
  {
   "cell_type": "code",
   "execution_count": null,
   "metadata": {
    "collapsed": false
   },
   "outputs": [],
   "source": [
    "job = Cantera(speciesList=speciesList, reactionList=reactionList, outputDirectory='temp_detailed')\n",
    "job.loadModel()\n",
    "job.generateConditions(reactorTypeList, reactionTimeList, molFracList, Tlist, Plist)\n",
    "alldata = job.simulate()"
   ]
  },
  {
   "cell_type": "markdown",
   "metadata": {},
   "source": [
    "## 2. reactant conversion"
   ]
  },
  {
   "cell_type": "code",
   "execution_count": null,
   "metadata": {
    "collapsed": true
   },
   "outputs": [],
   "source": [
    "# prepare moles data\n",
    "time, dataList, reactionSensitivityData = alldata[0]\n",
    "TData = dataList[0]\n",
    "PData = dataList[1]\n",
    "VData = dataList[2]\n",
    "total_moles = PData.data*VData.data/8.314/TData.data"
   ]
  },
  {
   "cell_type": "code",
   "execution_count": null,
   "metadata": {
    "collapsed": false
   },
   "outputs": [],
   "source": [
    "pdd_mf = dataList[7].data\n",
    "print dataList[7].label\n",
    "pdd_moles = pdd_mf*total_moles\n",
    "pdd_conv = (pdd_moles[0]-pdd_moles)/pdd_moles[0]"
   ]
  },
  {
   "cell_type": "code",
   "execution_count": null,
   "metadata": {
    "collapsed": false
   },
   "outputs": [],
   "source": [
    "plt.plot(time.data, pdd_conv)\n",
    "numpy.savetxt(os.path.join(results_path, 'reactant_conv.csv'), (time.data, pdd_conv))"
   ]
  },
  {
   "cell_type": "markdown",
   "metadata": {},
   "source": [
    "## 3. molecular weight distribution"
   ]
  },
  {
   "cell_type": "code",
   "execution_count": null,
   "metadata": {
    "collapsed": true
   },
   "outputs": [],
   "source": [
    "molecular_weight_distri = []\n",
    "for mf in dataList[3:]:\n",
    "    spe = speciesDict[mf.label]\n",
    "    molecular_weight_distri.append((spe.molecule[0].getMolecularWeight(), mf.data[-1]))"
   ]
  },
  {
   "cell_type": "code",
   "execution_count": null,
   "metadata": {
    "collapsed": true
   },
   "outputs": [],
   "source": [
    "mws = [tup[0]*1000 for tup in molecular_weight_distri]\n",
    "molefracs = [tup[1] for tup in molecular_weight_distri]"
   ]
  },
  {
   "cell_type": "code",
   "execution_count": null,
   "metadata": {
    "collapsed": true
   },
   "outputs": [],
   "source": [
    "numpy.savetxt(os.path.join(results_path, 'mwd.csv'), (mws, molefracs))"
   ]
  },
  {
   "cell_type": "code",
   "execution_count": null,
   "metadata": {
    "collapsed": true
   },
   "outputs": [],
   "source": []
  }
 ],
 "metadata": {
  "anaconda-cloud": {},
  "kernelspec": {
   "display_name": "Python [default]",
   "language": "python",
   "name": "python2"
  },
  "language_info": {
   "codemirror_mode": {
    "name": "ipython",
    "version": 2
   },
   "file_extension": ".py",
   "mimetype": "text/x-python",
   "name": "python",
   "nbconvert_exporter": "python",
   "pygments_lexer": "ipython2",
   "version": "2.7.13"
  }
 },
 "nbformat": 4,
 "nbformat_minor": 1
}
